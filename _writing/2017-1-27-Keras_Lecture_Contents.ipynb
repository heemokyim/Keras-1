{
 "cells": [
  {
   "cell_type": "raw",
   "metadata": {},
   "source": [
    "---\n",
    "layout: post\n",
    "title:  \"케라스 강좌 내용\"\n",
    "author: Taeyoung, Kim\n",
    "date:   2017-01-27 00:00:00\n",
    "categories: Keras\n",
    "comments: true\n",
    "---"
   ]
  },
  {
   "cell_type": "markdown",
   "metadata": {
    "collapsed": false
   },
   "source": [
    "케라스로 배워보는 딥러닝 강좌를 아래 내용를 아래 순서대로 진행하고자 합니다.\n",
    "\n",
    "1. 딥러닝 이야기\n",
    "    * [케라스 이야기](https://tykimos.github.io/Keras/2017/01/27/Keras_Talk/)\n",
    "    * [다층 퍼셉트론 레이어 이야기](https://tykimos.github.io/Keras/2017/01/27/MLP_Layer_Talk/)\n",
    "    * [컨볼루션 신경망 레이어 이야기]\n",
    "    * [순환 신경망 레이어 이야기]    \n",
    "    * [학습과정 이야기]\n",
    "    * [손실함수 이야기]\n",
    "    * [최적화 이야기]\n",
    "1. 딥러닝 기본 모델 실습\n",
    "    * [다층 퍼셉트론 모델 만들어보기]\n",
    "    * [컨볼루션 신경망 모델 만들어보기]\n",
    "    * [순환 신경망 모델 만들어보기]\n",
    "    * [오토인코더 모델 만들어보기]    \n",
    "    * [모델 검증하기]\n",
    "1. 딥러닝 분류 실습\n",
    "    * [이진 분류 해보기-MLP]\n",
    "    * [다중 분류 해보기-MLP]\n",
    "    * [영상 인식 해보기-CNN]\n",
    "    * [감성 분석 해보기-MLP]\n",
    "    * [감성 분석 해보기-CNN]    \n",
    "1. 딥러닝 회귀 실습\n",
    "    * [회귀 해보기-MLP]\n",
    "    * [시계열 예측 해보기-MLP]\n",
    "    * [시계열 예측 해보기-RNN]\n",
    "1. 딥러닝 튜닝 실습\n",
    "    * [최적 모델 선택하는 법]\n",
    "    * [모델 검증하는 법]\n",
    "    * [경사하강법과 미니배치]\n",
    "    * [과적합 줄이는 법]\n",
    "    * [모델 성능 개선시키는 법]\n",
    "1. 딥러닝 실용 실습\n",
    "    * [딥러닝으로 객체 검출 해보기]\n",
    "    * [딥러닝으로 객체 분할 해보기]    \n",
    "1. 딥러닝 생성 모델 실습\n",
    "    * [Variational Autoencoder (VAE) 해보기]\n",
    "    * [Generative Adversarial Network (GAN) 해보기]\n",
    "1. 딥러닝 아트 실습\n",
    "    * [딥러닝으로 소설쓰기]\n",
    "    * [딥러닝으로 꿈꾸기]\n",
    "    * [딥러닝으로 그림그리기]\n",
    "    * [딥러닝으로 화풍바꾸기]\n",
    "1. 데이터셋 이야기\n",
    "    * [필기체 (MNIST)]\n",
    "    * [광물탐색용 음파탐지기 (sonar)]"
   ]
  },
  {
   "cell_type": "markdown",
   "metadata": {
    "collapsed": true
   },
   "source": [
    "---\n",
    "\n",
    "### 같이 보기\n",
    "\n",
    "* 다음 : [딥러닝 이야기/케라스 이야기](https://tykimos.github.io/Keras/2017/01/27/Keras_Talk/)"
   ]
  }
 ],
 "metadata": {
  "kernelspec": {
   "display_name": "Python 2",
   "language": "python",
   "name": "python2"
  },
  "language_info": {
   "codemirror_mode": {
    "name": "ipython",
    "version": 2
   },
   "file_extension": ".py",
   "mimetype": "text/x-python",
   "name": "python",
   "nbconvert_exporter": "python",
   "pygments_lexer": "ipython2",
   "version": "2.7.10"
  }
 },
 "nbformat": 4,
 "nbformat_minor": 0
}
