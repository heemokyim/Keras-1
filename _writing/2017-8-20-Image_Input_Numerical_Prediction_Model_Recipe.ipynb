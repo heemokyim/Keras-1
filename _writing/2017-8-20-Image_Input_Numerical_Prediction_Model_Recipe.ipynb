{
 "cells": [
  {
   "cell_type": "raw",
   "metadata": {},
   "source": [
    "---\n",
    "layout: post\n",
    "title:  \"영상입력 수치예측 모델 레시피\"\n",
    "author: 김태영\n",
    "date:   2017-08-20 01:00:00\n",
    "categories: Lecture\n",
    "comments: true\n",
    "image: http://tykimos.github.com/Keras/warehouse/2017-8-20-Image_Input_Numerical_Prediction_Model_Recipe_4m.png\n",
    "---"
   ]
  },
  {
   "cell_type": "markdown",
   "metadata": {},
   "source": [
    "영상을 입력해서 수치를 예측하는 모델들에 대해서 알아보겠습니다. 수치예측을 위한 영상 데이터셋 생성을 해보고, 다층퍼셉트론 및 컨볼루션 신경망 모델을 구성 및 학습 시켜보겠습니다."
   ]
  },
  {
   "cell_type": "markdown",
   "metadata": {},
   "source": [
    "---\n",
    "### 데이터셋 준비\n",
    "\n",
    "임의의 픽셀 수를 가지는 영상을 생성합니다."
   ]
  },
  {
   "cell_type": "code",
   "execution_count": 7,
   "metadata": {
    "collapsed": true
   },
   "outputs": [],
   "source": [
    "import numpy as np\n",
    "\n",
    "width = 16\n",
    "height = 16\n",
    "\n",
    "def generate_dataset(samples):\n",
    "\n",
    "    ds_x = []\n",
    "    ds_y = []\n",
    "    \n",
    "    for it in range(samples):\n",
    "        \n",
    "        num_pt = np.random.randint(0, width * height)\n",
    "        img = generate_image(num_pt)\n",
    "        \n",
    "        ds_y.append(num_pt)\n",
    "        ds_x.append(img)\n",
    "    \n",
    "    return np.array(ds_x), np.array(ds_y).reshape(samples, 1)\n",
    "    \n",
    "def generate_image(points):\n",
    "    \n",
    "    img = np.zeros((width, height))\n",
    "    pts = np.random.random((points, 2))\n",
    "    \n",
    "    for ipt in pts:\n",
    "        img[int(ipt[0] * width), int(ipt[1] * height)] = 1\n",
    "    \n",
    "    return img.reshape(width, height, 1)"
   ]
  },
  {
   "cell_type": "code",
   "execution_count": 8,
   "metadata": {
    "collapsed": true
   },
   "outputs": [],
   "source": [
    "x_train, y_train = generate_dataset(1000)\n",
    "x_test, y_test = generate_dataset(100)"
   ]
  },
  {
   "cell_type": "markdown",
   "metadata": {},
   "source": [
    "만든 데이터셋 일부를 가시화 해보겠습니다."
   ]
  },
  {
   "cell_type": "code",
   "execution_count": 3,
   "metadata": {},
   "outputs": [
    {
     "data": {
      "image/png": "[encoded data removed]",
      "text/plain": [
       "<matplotlib.figure.Figure at 0x10abec910>"
      ]
     },
     "metadata": {},
     "output_type": "display_data"
    }
   ],
   "source": [
    "# 데이터셋 확인\n",
    "%matplotlib inline\n",
    "import matplotlib.pyplot as plt\n",
    "        \n",
    "plt_row = 5\n",
    "plt_col = 5\n",
    "\n",
    "plt.rcParams[\"figure.figsize\"] = (10,10)\n",
    "\n",
    "f, axarr = plt.subplots(plt_row, plt_col)\n",
    "\n",
    "for i in range(plt_row*plt_col):\n",
    "    sub_plt = axarr[i/plt_row, i%plt_col]\n",
    "    sub_plt.axis('off')\n",
    "    sub_plt.imshow(x_train[i].reshape(width, height))\n",
    "    sub_plt.set_title('R ' + str(y_train[i][0]))\n",
    "\n",
    "plt.show()"
   ]
  },
  {
   "cell_type": "markdown",
   "metadata": {},
   "source": [
    "---\n",
    "### 레이어 준비\n",
    "\n",
    "수치예측 모델에 사용할 레이어는 `Dense`와 `Activation`입니다. `Activation`에는 은닉층(hidden layer)에 사용할 `relu`를 준비했습니다. 데이터셋은 일차원 벡터만 다루도록 하겠습니다.\n",
    "\n",
    "|종류|구분|상세구분|브릭|\n",
    "|:-:|:-:|:-:|:-:|\n",
    "|데이터셋|Vector|-|![img](http://tykimos.github.com/Keras/warehouse/DeepBrick/Model_Recipe_Part_Dataset_Vector_s.png)|\n",
    "|레이어|Dense||![img](http://tykimos.github.com/Keras/warehouse/DeepBrick/Model_Recipe_Part_Dense_s.png)|\n",
    "|레이어|Activation|relu|![img](http://tykimos.github.com/Keras/warehouse/DeepBrick/Model_Recipe_Part_Activation_Relu_s.png)|"
   ]
  },
  {
   "cell_type": "markdown",
   "metadata": {},
   "source": [
    "---\n",
    "### 모델 준비\n",
    "\n",
    "수치예측을 하기 위해 `다층퍼셉트론 모델`, `컨볼루션 신경망 모델`을 준비했습니다.\n",
    "\n",
    "#### 다층퍼셉트론 모델\n",
    "\n",
    "    model = Sequential()\n",
    "    model.add(Dense(256, activation='relu', input_dim = width*height))\n",
    "    model.add(Dense(256, activation='relu'))\n",
    "    model.add(Dense(256, activation='relu'))\n",
    "    model.add(Dense(1))\n",
    "\n",
    "#### 컨볼루션 신경망 모델\n",
    "\n",
    "    model = Sequential()\n",
    "    model.add(Conv2D(32, (3, 3), activation='relu', input_shape=(width, height, 1)))\n",
    "    model.add(MaxPooling2D(pool_size=(2, 2)))\n",
    "    model.add(Conv2D(32, (3, 3), activation='relu'))\n",
    "    model.add(MaxPooling2D(pool_size=(2, 2)))\n",
    "    model.add(Flatten())\n",
    "    model.add(Dense(256, activation='relu'))\n",
    "    model.add(Dense(1))\n"
   ]
  },
  {
   "cell_type": "markdown",
   "metadata": {},
   "source": [
    "---\n",
    "### 학습과정 정의"
   ]
  },
  {
   "cell_type": "code",
   "execution_count": 4,
   "metadata": {},
   "outputs": [
    {
     "ename": "NameError",
     "evalue": "name 'model' is not defined",
     "output_type": "error",
     "traceback": [
      "\u001b[0;31m---------------------------------------------------------------------------\u001b[0m",
      "\u001b[0;31mNameError\u001b[0m                                 Traceback (most recent call last)",
      "\u001b[0;32m<ipython-input-4-30afb3e2b95c>\u001b[0m in \u001b[0;36m<module>\u001b[0;34m()\u001b[0m\n\u001b[0;32m----> 1\u001b[0;31m \u001b[0mmodel\u001b[0m\u001b[0;34m.\u001b[0m\u001b[0mcompile\u001b[0m\u001b[0;34m(\u001b[0m\u001b[0mloss\u001b[0m\u001b[0;34m=\u001b[0m\u001b[0;34m'mse'\u001b[0m\u001b[0;34m,\u001b[0m \u001b[0moptimizer\u001b[0m\u001b[0;34m=\u001b[0m\u001b[0;34m'rmsprop'\u001b[0m\u001b[0;34m)\u001b[0m\u001b[0;34m\u001b[0m\u001b[0m\n\u001b[0m",
      "\u001b[0;31mNameError\u001b[0m: name 'model' is not defined"
     ]
    }
   ],
   "source": [
    "model.compile(loss='mse', optimizer='rmsprop')"
   ]
  },
  {
   "cell_type": "markdown",
   "metadata": {},
   "source": [
    "---\n",
    "### 전체 소스\n",
    "\n",
    "앞서 살펴본 `다층퍼셉트론 모델`, `컨볼루션 신경망 모델`의 전체 소스는 다음과 같습니다. "
   ]
  },
  {
   "cell_type": "markdown",
   "metadata": {},
   "source": [
    "#### 다층퍼셉트론 소스"
   ]
  },
  {
   "cell_type": "code",
   "execution_count": null,
   "metadata": {},
   "outputs": [
    {
     "name": "stdout",
     "output_type": "stream",
     "text": [
      "Epoch 1/1000\n",
      "1000/1000 [==============================] - 0s - loss: 3380.1941     \n",
      "Epoch 2/1000\n",
      "1000/1000 [==============================] - 0s - loss: 447.5147     \n",
      "Epoch 3/1000\n",
      "1000/1000 [==============================] - 0s - loss: 336.0275     \n",
      "Epoch 4/1000\n",
      "1000/1000 [==============================] - 0s - loss: 313.5948     \n",
      "Epoch 5/1000\n",
      "1000/1000 [==============================] - 0s - loss: 343.9385     \n",
      "Epoch 6/1000\n",
      "1000/1000 [==============================] - 0s - loss: 260.5328     \n",
      "Epoch 7/1000\n",
      "1000/1000 [==============================] - 0s - loss: 299.1143     \n",
      "Epoch 8/1000\n",
      "1000/1000 [==============================] - 0s - loss: 302.2859     \n",
      "Epoch 9/1000\n",
      "1000/1000 [==============================] - 0s - loss: 260.8124     \n",
      "Epoch 10/1000\n",
      "1000/1000 [==============================] - 0s - loss: 246.4168     \n",
      "Epoch 11/1000\n",
      "1000/1000 [==============================] - 0s - loss: 241.8669     \n",
      "Epoch 12/1000\n",
      "1000/1000 [==============================] - 0s - loss: 205.8373     \n",
      "Epoch 13/1000\n",
      "1000/1000 [==============================] - 0s - loss: 208.6025     \n",
      "Epoch 14/1000\n",
      "1000/1000 [==============================] - 0s - loss: 222.9047     \n",
      "Epoch 15/1000\n",
      "1000/1000 [==============================] - 0s - loss: 227.0719     \n",
      "Epoch 16/1000\n",
      "1000/1000 [==============================] - 0s - loss: 167.9154     \n",
      "Epoch 17/1000\n",
      "1000/1000 [==============================] - 0s - loss: 185.8073     \n",
      "Epoch 18/1000\n",
      "1000/1000 [==============================] - 0s - loss: 174.0153     \n",
      "Epoch 19/1000\n",
      "1000/1000 [==============================] - 0s - loss: 224.8095     \n",
      "Epoch 20/1000\n",
      "1000/1000 [==============================] - 0s - loss: 174.0204     \n",
      "Epoch 21/1000\n",
      "1000/1000 [==============================] - 0s - loss: 152.8827     \n",
      "Epoch 22/1000\n",
      "1000/1000 [==============================] - 0s - loss: 147.2877     \n",
      "Epoch 23/1000\n",
      "1000/1000 [==============================] - 0s - loss: 170.8366     \n",
      "Epoch 24/1000\n",
      "1000/1000 [==============================] - 0s - loss: 169.4330     \n",
      "Epoch 25/1000\n",
      "1000/1000 [==============================] - 0s - loss: 142.6634     \n",
      "Epoch 26/1000\n",
      "1000/1000 [==============================] - 0s - loss: 157.1827     \n",
      "Epoch 27/1000\n",
      "1000/1000 [==============================] - 0s - loss: 148.2455     \n",
      "Epoch 28/1000\n",
      "1000/1000 [==============================] - 0s - loss: 126.4050     \n",
      "Epoch 29/1000\n",
      "1000/1000 [==============================] - 0s - loss: 126.6680     \n",
      "Epoch 30/1000\n",
      "1000/1000 [==============================] - 0s - loss: 164.4133     \n",
      "Epoch 31/1000\n",
      "1000/1000 [==============================] - 0s - loss: 138.2604     \n",
      "Epoch 32/1000\n",
      "1000/1000 [==============================] - 0s - loss: 123.0499     \n",
      "Epoch 33/1000\n",
      "1000/1000 [==============================] - 0s - loss: 141.0072     \n",
      "Epoch 34/1000\n",
      "1000/1000 [==============================] - 0s - loss: 119.6702     \n",
      "Epoch 35/1000\n",
      "1000/1000 [==============================] - 0s - loss: 130.5841     \n",
      "Epoch 36/1000\n",
      "1000/1000 [==============================] - 0s - loss: 100.3576    \n",
      "Epoch 37/1000\n",
      "1000/1000 [==============================] - 0s - loss: 123.5714     \n",
      "Epoch 38/1000\n",
      "1000/1000 [==============================] - 0s - loss: 108.5057     \n",
      "Epoch 39/1000\n",
      "1000/1000 [==============================] - 0s - loss: 120.8298     \n",
      "Epoch 40/1000\n",
      "1000/1000 [==============================] - 0s - loss: 102.9571     \n",
      "Epoch 41/1000\n",
      "1000/1000 [==============================] - 0s - loss: 120.6453    \n",
      "Epoch 42/1000\n",
      "1000/1000 [==============================] - 0s - loss: 103.8017     \n",
      "Epoch 43/1000\n",
      "1000/1000 [==============================] - 0s - loss: 114.4089     \n",
      "Epoch 44/1000\n",
      "1000/1000 [==============================] - 0s - loss: 104.0326     \n",
      "Epoch 45/1000\n",
      "1000/1000 [==============================] - 0s - loss: 104.9836     \n",
      "Epoch 46/1000\n",
      "1000/1000 [==============================] - 0s - loss: 94.5435     \n",
      "Epoch 47/1000\n",
      "1000/1000 [==============================] - 0s - loss: 109.8721     \n",
      "Epoch 48/1000\n",
      "1000/1000 [==============================] - 0s - loss: 95.2551     \n",
      "Epoch 49/1000\n",
      "1000/1000 [==============================] - 0s - loss: 88.9438      \n",
      "Epoch 50/1000\n",
      "1000/1000 [==============================] - 0s - loss: 112.9950     \n",
      "Epoch 51/1000\n",
      "1000/1000 [==============================] - 0s - loss: 93.4109     \n",
      "Epoch 52/1000\n",
      "1000/1000 [==============================] - 0s - loss: 75.8254     \n",
      "Epoch 53/1000\n",
      "1000/1000 [==============================] - 0s - loss: 88.9367     \n",
      "Epoch 54/1000\n",
      " 640/1000 [==================>...........] - ETA: 0s - loss: 86.3735"
     ]
    }
   ],
   "source": [
    "import numpy as np\n",
    "\n",
    "width = 16\n",
    "height = 16\n",
    "\n",
    "def generate_dataset(samples):\n",
    "\n",
    "    ds_x = []\n",
    "    ds_y = []\n",
    "    \n",
    "    for it in range(samples):\n",
    "        \n",
    "        num_pt = np.random.randint(0, width * height)\n",
    "        img = generate_image(num_pt)\n",
    "        \n",
    "        ds_y.append(num_pt)\n",
    "        ds_x.append(img)\n",
    "    \n",
    "    return np.array(ds_x), np.array(ds_y).reshape(samples, 1)\n",
    "    \n",
    "def generate_image(points):\n",
    "    \n",
    "    img = np.zeros((width, height))\n",
    "    pts = np.random.random((points, 2))\n",
    "    \n",
    "    for ipt in pts:\n",
    "        img[int(ipt[0] * width), int(ipt[1] * height)] = 1\n",
    "    \n",
    "    return img.reshape(width, height, 1)\n",
    "\n",
    "x_train, y_train = generate_dataset(1000)\n",
    "x_test, y_test = generate_dataset(100)\n",
    "\n",
    "x_train_1d = x_train.reshape(x_train.shape[0], width*height)\n",
    "x_test_1d = x_test.reshape(x_test.shape[0], width*height)\n",
    "\n",
    "from keras.models import Sequential\n",
    "from keras.layers import Dense, Dropout, Flatten\n",
    "from keras.layers import Conv2D, MaxPooling2D\n",
    "\n",
    "model = Sequential()\n",
    "model.add(Dense(256, activation='relu', input_dim = width*height))\n",
    "model.add(Dense(256, activation='relu'))\n",
    "model.add(Dense(256, activation='relu'))\n",
    "model.add(Dense(1))\n",
    "\n",
    "model.compile(loss='mse', optimizer='rmsprop')\n",
    "\n",
    "model.fit(x_train_1d, y_train, batch_size=32, epochs=1000)\n",
    "\n",
    "score = model.evaluate(x_test_1d, y_test, batch_size=32)\n",
    "\n",
    "print(score)\n",
    "\n",
    "yhat_test = model.predict(x_test_1d, batch_size=32)\n",
    "\n",
    "plt_row = 5\n",
    "plt_col = 5\n",
    "\n",
    "plt.rcParams[\"figure.figsize\"] = (10,10)\n",
    "\n",
    "f, axarr = plt.subplots(plt_row, plt_col)\n",
    "\n",
    "for i in range(plt_row*plt_col):\n",
    "    sub_plt = axarr[i/plt_row, i%plt_col]\n",
    "    sub_plt.axis('off')\n",
    "    sub_plt.imshow(x_test[i].reshape(width, height))\n",
    "    sub_plt.set_title('R %d P %.1f' % (y_test[i][0], yhat_test[i][0]))\n",
    "\n",
    "plt.show()"
   ]
  },
  {
   "cell_type": "markdown",
   "metadata": {},
   "source": [
    "#### 컨볼루션 신경망 소스"
   ]
  },
  {
   "cell_type": "code",
   "execution_count": null,
   "metadata": {},
   "outputs": [],
   "source": [
    "import numpy as np\n",
    "\n",
    "width = 16\n",
    "height = 16\n",
    "\n",
    "def generate_dataset(samples):\n",
    "\n",
    "    ds_x = []\n",
    "    ds_y = []\n",
    "    \n",
    "    for it in range(samples):\n",
    "        \n",
    "        num_pt = np.random.randint(0, width * height)\n",
    "        img = generate_image(num_pt)\n",
    "        \n",
    "        ds_y.append(num_pt)\n",
    "        ds_x.append(img)\n",
    "    \n",
    "    return np.array(ds_x), np.array(ds_y).reshape(samples, 1)\n",
    "    \n",
    "def generate_image(points):\n",
    "    \n",
    "    img = np.zeros((width, height))\n",
    "    pts = np.random.random((points, 2))\n",
    "    \n",
    "    for ipt in pts:\n",
    "        img[int(ipt[0] * width), int(ipt[1] * height)] = 1\n",
    "    \n",
    "    return img.reshape(width, height, 1)\n",
    "\n",
    "x_train, y_train = generate_dataset(1000)\n",
    "x_test, y_test = generate_dataset(100)\n",
    "\n",
    "from keras.models import Sequential\n",
    "from keras.layers import Dense, Dropout, Flatten\n",
    "from keras.layers import Conv2D, MaxPooling2D\n",
    "\n",
    "model = Sequential()\n",
    "model.add(Conv2D(32, (3, 3), activation='relu', input_shape=(width, height, 1)))\n",
    "model.add(MaxPooling2D(pool_size=(2, 2)))\n",
    "model.add(Conv2D(32, (3, 3), activation='relu'))\n",
    "model.add(MaxPooling2D(pool_size=(2, 2)))\n",
    "model.add(Flatten())\n",
    "model.add(Dense(256, activation='relu'))\n",
    "model.add(Dense(1))\n",
    "\n",
    "model.compile(loss='mse', optimizer='rmsprop')\n",
    "model.fit(x_train, y_train, batch_size=32, epochs=1000)\n",
    "\n",
    "score = model.evaluate(x_test, y_test, batch_size=32)\n",
    "\n",
    "print(score)\n",
    "\n",
    "yhat_test = model.predict(x_test_1d, batch_size=32)\n",
    "\n",
    "plt_row = 5\n",
    "plt_col = 5\n",
    "\n",
    "plt.rcParams[\"figure.figsize\"] = (10,10)\n",
    "\n",
    "f, axarr = plt.subplots(plt_row, plt_col)\n",
    "\n",
    "for i in range(plt_row*plt_col):\n",
    "    sub_plt = axarr[i/plt_row, i%plt_col]\n",
    "    sub_plt.axis('off')\n",
    "    sub_plt.imshow(x_test[i].reshape(width, height))\n",
    "    sub_plt.set_title('R %d P %.1f' % (y_test[i][0], yhat_test[i][0]))\n",
    "\n",
    "plt.show()"
   ]
  },
  {
   "cell_type": "markdown",
   "metadata": {},
   "source": [
    "---\n",
    "\n",
    "### 학습결과 비교\n",
    "\n",
    "N/A"
   ]
  },
  {
   "cell_type": "markdown",
   "metadata": {},
   "source": [
    "---\n",
    "\n",
    "### 결론\n",
    "\n",
    "N/A"
   ]
  },
  {
   "cell_type": "markdown",
   "metadata": {
    "collapsed": true
   },
   "source": [
    "---\n",
    "\n",
    "### 같이 보기\n",
    "\n",
    "* [강좌 목차](https://tykimos.github.io/Keras/lecture/)"
   ]
  }
 ],
 "metadata": {
  "kernelspec": {
   "display_name": "Python 2",
   "language": "python",
   "name": "python2"
  },
  "language_info": {
   "codemirror_mode": {
    "name": "ipython",
    "version": 2
   },
   "file_extension": ".py",
   "mimetype": "text/x-python",
   "name": "python",
   "nbconvert_exporter": "python",
   "pygments_lexer": "ipython2",
   "version": "2.7.13"
  }
 },
 "nbformat": 4,
 "nbformat_minor": 1
}
