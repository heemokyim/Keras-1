{
 "cells": [
  {
   "cell_type": "raw",
   "metadata": {},
   "source": [
    "---\n",
    "layout: post\n",
    "title:  \"시계열예측 해보기\"\n",
    "author: Taeyoung, Kim\n",
    "date:   2017-02-04 10:00:00\n",
    "categories: Keras\n",
    "comments: true\n",
    "---"
   ]
  },
  {
   "cell_type": "markdown",
   "metadata": {},
   "source": [
    "본 강좌에서는 시계열예측을 해보겠습니다. 다음과 같은 순서로 진행하겠습니다.\n",
    "\n",
    "1. 데이터셋 준비하기\n",
    "1. 모델 구성하기\n",
    "1. 모델 엮기\n",
    "1. 모델 학습시키기\n",
    "1. 모델 사용하기"
   ]
  },
  {
   "cell_type": "markdown",
   "metadata": {},
   "source": [
    "---\n",
    "\n",
    "### 데이터셋 준비하기\n",
    "\n",
    "    \"Month\",\"International airline passengers: monthly totals in thousands. Jan 49 ? Dec 60\"\n",
    "    \"1949-01\",112\n",
    "    \"1949-02\",118\n",
    "    \"1949-03\",132\n",
    "    \"1949-04\",129\n",
    "    \"1949-05\",121\n",
    "\n",
    "[다운](https://datamarket.com/data/set/22u3/international-airline-passengers-monthly-totals-in-thousands-jan-49-dec-60#!ds=22u3&display=line)\n",
    "\n",
    "    X1 X2 X3 Y\n",
    "    112 118 132 129 \n",
    "    118 132 129 121 \n",
    "    132 129 121 135 \n",
    "    129 121 135 148 \n",
    "    121 135 148 148"
   ]
  },
  {
   "cell_type": "code",
   "execution_count": 21,
   "metadata": {
    "collapsed": false
   },
   "outputs": [
    {
     "data": {
      "image/png": "[encoded data removed]",
      "text/plain": [
       "<matplotlib.figure.Figure at 0x10f2d0fd0>"
      ]
     },
     "metadata": {},
     "output_type": "display_data"
    }
   ],
   "source": [
    "import pandas\n",
    "import matplotlib.pyplot as plt\n",
    "%matplotlib inline \n",
    "\n",
    "dataset = pandas.read_csv( 'warehouse/international-airline-passengers.csv' , usecols=[1], engine= 'python' , skipfooter=3)\n",
    "plt.plot(dataset)\n",
    "plt.show()"
   ]
  },
  {
   "cell_type": "code",
   "execution_count": 31,
   "metadata": {
    "collapsed": false
   },
   "outputs": [],
   "source": [
    "# LSTM for international airline passengers problem with window regression framing\n",
    "import numpy\n",
    "import matplotlib.pyplot as plt\n",
    "import pandas\n",
    "import math\n",
    "from keras.models import Sequential\n",
    "from keras.layers import Dense\n",
    "from keras.layers import LSTM\n",
    "from sklearn.preprocessing import MinMaxScaler\n",
    "from sklearn.metrics import mean_squared_error\n",
    "# convert an array of values into a dataset matrix\n",
    "def create_dataset(dataset, look_back=1):\n",
    "  dataX, dataY = [], []\n",
    "  for i in range(len(dataset)-look_back-1):\n",
    "    a = dataset[i:(i+look_back), 0]\n",
    "    dataX.append(a)\n",
    "    dataY.append(dataset[i + look_back, 0])\n",
    "  return numpy.array(dataX), numpy.array(dataY)\n",
    "\n",
    "# fix random seed for reproducibility\n",
    "numpy.random.seed(7)\n",
    "# load the dataset\n",
    "dataframe = pandas.read_csv( 'warehouse/international-airline-passengers.csv' , usecols=[1],\n",
    "    engine= 'python' , skipfooter=3)\n",
    "dataset = dataframe.values\n",
    "dataset = dataset.astype( 'float32' )\n",
    "# normalize the dataset\n",
    "scaler = MinMaxScaler(feature_range=(0, 1))\n",
    "dataset = scaler.fit_transform(dataset)\n",
    "# split into train and test sets\n",
    "train_size = int(len(dataset) * 0.67)\n",
    "test_size = len(dataset) - train_size\n",
    "train, test = dataset[0:train_size,:], dataset[train_size:len(dataset),:]\n",
    "# reshape into X=t and Y=t+1\n",
    "look_back = 3\n",
    "trainX, trainY = create_dataset(train, look_back)\n",
    "testX, testY = create_dataset(test, look_back)\n",
    "# reshape input to be [samples, time steps, features]\n",
    "trainX = numpy.reshape(trainX, (trainX.shape[0], 1, trainX.shape[1]))\n",
    "testX = numpy.reshape(testX, (testX.shape[0], 1, testX.shape[1]))"
   ]
  },
  {
   "cell_type": "markdown",
   "metadata": {},
   "source": [
    "---\n",
    "\n",
    "### 모델 구성하기\n",
    "\n",
    "Dense 클래스를 사용하여 완전 연결 레이어(Fully Connected Layer)를 정의할 수 있다.\n",
    "\n",
    "- 첫번째 인자 : 뉴런의 수\n",
    "- 두번째 인자 : 네트워크 가중치(network weight) 초기화 방법\n",
    " - uniform : 균등분포 (uniform distribution)의 작은 난수들로 초기화 (0~0.05 사이)\n",
    " - normal : 가우시안 분포 (Gaussian distribution)로 생성된 작은 난수들로 초기화 \n",
    "- 세번째 인자 : 활성화 함수(activation function) 지정\n",
    " - relu : rectifier 활성화 함수\n",
    " - sigmoid : sigmoid 활성화 함수\n",
    " - tanh : tanh 활성화 함수\n",
    " \n",
    "마지막 레이어는 sigmoid 할성화 함수를 사용하는데, 이유는 결과가 0과 1사이로 나오는 것을 보장하며, 양성 클래스의 확률로 쉽게 매핑할 수 있기 때문이다. 또한 0.5 임계치(threshold)을 같은 클래스의 범주형 분류(hard classification)를 할 수 있다.\n",
    "\n",
    "- 첫번째 은닉층(hidden layer)는 12개 뉴런을 가지고, 8개 입력을 받아들인다.\n",
    "- 두번째 은닉층은 8개 뉴런을 가진다.\n",
    "- 마지막 레이어는 클래스를 예측하는 1개의 뉴런을 가진다."
   ]
  },
  {
   "cell_type": "code",
   "execution_count": 32,
   "metadata": {
    "collapsed": false
   },
   "outputs": [],
   "source": [
    "# create and fit the LSTM network\n",
    "model = Sequential()\n",
    "model.add(LSTM(4, input_dim=look_back))\n",
    "model.add(Dense(1))"
   ]
  },
  {
   "cell_type": "code",
   "execution_count": 33,
   "metadata": {
    "collapsed": false
   },
   "outputs": [
    {
     "data": {
      "image/svg+xml": [
       "<svg height=\"215pt\" viewBox=\"0.00 0.00 330.12 215.00\" width=\"330pt\" xmlns=\"http://www.w3.org/2000/svg\" xmlns:xlink=\"http://www.w3.org/1999/xlink\">\n",
       "<g class=\"graph\" id=\"graph0\" transform=\"scale(1 1) rotate(0) translate(4 211)\">\n",
       "<title>G</title>\n",
       "<polygon fill=\"#ffffff\" points=\"-4,4 -4,-211 326.1211,-211 326.1211,4 -4,4\" stroke=\"transparent\"/>\n",
       "<!-- 4791102416 -->\n",
       "<g class=\"node\" id=\"node1\">\n",
       "<title>4791102416</title>\n",
       "<polygon fill=\"none\" points=\"0,-162.5 0,-206.5 322.1211,-206.5 322.1211,-162.5 0,-162.5\" stroke=\"#000000\"/>\n",
       "<text fill=\"#000000\" font-family=\"Times,serif\" font-size=\"14.00\" text-anchor=\"middle\" x=\"79.7397\" y=\"-180.3\">lstm_input_4: InputLayer</text>\n",
       "<polyline fill=\"none\" points=\"159.4795,-162.5 159.4795,-206.5 \" stroke=\"#000000\"/>\n",
       "<text fill=\"#000000\" font-family=\"Times,serif\" font-size=\"14.00\" text-anchor=\"middle\" x=\"187.314\" y=\"-191.3\">input:</text>\n",
       "<polyline fill=\"none\" points=\"159.4795,-184.5 215.1484,-184.5 \" stroke=\"#000000\"/>\n",
       "<text fill=\"#000000\" font-family=\"Times,serif\" font-size=\"14.00\" text-anchor=\"middle\" x=\"187.314\" y=\"-169.3\">output:</text>\n",
       "<polyline fill=\"none\" points=\"215.1484,-162.5 215.1484,-206.5 \" stroke=\"#000000\"/>\n",
       "<text fill=\"#000000\" font-family=\"Times,serif\" font-size=\"14.00\" text-anchor=\"middle\" x=\"268.6348\" y=\"-191.3\">(None, None, 3)</text>\n",
       "<polyline fill=\"none\" points=\"215.1484,-184.5 322.1211,-184.5 \" stroke=\"#000000\"/>\n",
       "<text fill=\"#000000\" font-family=\"Times,serif\" font-size=\"14.00\" text-anchor=\"middle\" x=\"268.6348\" y=\"-169.3\">(None, None, 3)</text>\n",
       "</g>\n",
       "<!-- 4791102608 -->\n",
       "<g class=\"node\" id=\"node2\">\n",
       "<title>4791102608</title>\n",
       "<polygon fill=\"none\" points=\"30.3174,-81.5 30.3174,-125.5 291.8037,-125.5 291.8037,-81.5 30.3174,-81.5\" stroke=\"#000000\"/>\n",
       "<text fill=\"#000000\" font-family=\"Times,serif\" font-size=\"14.00\" text-anchor=\"middle\" x=\"79.7397\" y=\"-99.3\">lstm_4: LSTM</text>\n",
       "<polyline fill=\"none\" points=\"129.1621,-81.5 129.1621,-125.5 \" stroke=\"#000000\"/>\n",
       "<text fill=\"#000000\" font-family=\"Times,serif\" font-size=\"14.00\" text-anchor=\"middle\" x=\"156.9966\" y=\"-110.3\">input:</text>\n",
       "<polyline fill=\"none\" points=\"129.1621,-103.5 184.8311,-103.5 \" stroke=\"#000000\"/>\n",
       "<text fill=\"#000000\" font-family=\"Times,serif\" font-size=\"14.00\" text-anchor=\"middle\" x=\"156.9966\" y=\"-88.3\">output:</text>\n",
       "<polyline fill=\"none\" points=\"184.8311,-81.5 184.8311,-125.5 \" stroke=\"#000000\"/>\n",
       "<text fill=\"#000000\" font-family=\"Times,serif\" font-size=\"14.00\" text-anchor=\"middle\" x=\"238.3174\" y=\"-110.3\">(None, None, 3)</text>\n",
       "<polyline fill=\"none\" points=\"184.8311,-103.5 291.8037,-103.5 \" stroke=\"#000000\"/>\n",
       "<text fill=\"#000000\" font-family=\"Times,serif\" font-size=\"14.00\" text-anchor=\"middle\" x=\"238.1553\" y=\"-88.3\">(None, 4)</text>\n",
       "</g>\n",
       "<!-- 4791102416&#45;&gt;4791102608 -->\n",
       "<g class=\"edge\" id=\"edge1\">\n",
       "<title>4791102416-&gt;4791102608</title>\n",
       "<path d=\"M161.0605,-162.3664C161.0605,-154.1516 161.0605,-144.6579 161.0605,-135.7252\" fill=\"none\" stroke=\"#000000\"/>\n",
       "<polygon fill=\"#000000\" points=\"164.5606,-135.6068 161.0605,-125.6068 157.5606,-135.6069 164.5606,-135.6068\" stroke=\"#000000\"/>\n",
       "</g>\n",
       "<!-- 4791100944 -->\n",
       "<g class=\"node\" id=\"node3\">\n",
       "<title>4791100944</title>\n",
       "<polygon fill=\"none\" points=\"42.7759,-.5 42.7759,-44.5 279.3452,-44.5 279.3452,-.5 42.7759,-.5\" stroke=\"#000000\"/>\n",
       "<text fill=\"#000000\" font-family=\"Times,serif\" font-size=\"14.00\" text-anchor=\"middle\" x=\"98.4019\" y=\"-18.3\">dense_10: Dense</text>\n",
       "<polyline fill=\"none\" points=\"154.0278,-.5 154.0278,-44.5 \" stroke=\"#000000\"/>\n",
       "<text fill=\"#000000\" font-family=\"Times,serif\" font-size=\"14.00\" text-anchor=\"middle\" x=\"181.8623\" y=\"-29.3\">input:</text>\n",
       "<polyline fill=\"none\" points=\"154.0278,-22.5 209.6968,-22.5 \" stroke=\"#000000\"/>\n",
       "<text fill=\"#000000\" font-family=\"Times,serif\" font-size=\"14.00\" text-anchor=\"middle\" x=\"181.8623\" y=\"-7.3\">output:</text>\n",
       "<polyline fill=\"none\" points=\"209.6968,-.5 209.6968,-44.5 \" stroke=\"#000000\"/>\n",
       "<text fill=\"#000000\" font-family=\"Times,serif\" font-size=\"14.00\" text-anchor=\"middle\" x=\"244.521\" y=\"-29.3\">(None, 4)</text>\n",
       "<polyline fill=\"none\" points=\"209.6968,-22.5 279.3452,-22.5 \" stroke=\"#000000\"/>\n",
       "<text fill=\"#000000\" font-family=\"Times,serif\" font-size=\"14.00\" text-anchor=\"middle\" x=\"244.521\" y=\"-7.3\">(None, 1)</text>\n",
       "</g>\n",
       "<!-- 4791102608&#45;&gt;4791100944 -->\n",
       "<g class=\"edge\" id=\"edge2\">\n",
       "<title>4791102608-&gt;4791100944</title>\n",
       "<path d=\"M161.0605,-81.3664C161.0605,-73.1516 161.0605,-63.6579 161.0605,-54.7252\" fill=\"none\" stroke=\"#000000\"/>\n",
       "<polygon fill=\"#000000\" points=\"164.5606,-54.6068 161.0605,-44.6068 157.5606,-54.6069 164.5606,-54.6068\" stroke=\"#000000\"/>\n",
       "</g>\n",
       "</g>\n",
       "</svg>"
      ],
      "text/plain": [
       "<IPython.core.display.SVG object>"
      ]
     },
     "execution_count": 33,
     "metadata": {},
     "output_type": "execute_result"
    }
   ],
   "source": [
    "from IPython.display import SVG\n",
    "from keras.utils.visualize_util import model_to_dot\n",
    "\n",
    "SVG(model_to_dot(model, show_shapes=True).create(prog='dot', format='svg'))"
   ]
  },
  {
   "cell_type": "markdown",
   "metadata": {},
   "source": [
    "![svg]({{ site.baseurl }}/posts_warehouse/2017-2-4-1.svg)"
   ]
  },
  {
   "cell_type": "markdown",
   "metadata": {},
   "source": [
    "---\n",
    "\n",
    "### 모델 엮기\n",
    "\n",
    "컴파일 시에 정의해야하는 것들\n",
    "- 가중치 세트를 평가하는 데 사용할 손실함수(loss function)\n",
    " - binary_crossentropy : 이진 분류를 위한 logarithmic loss\n",
    "- 네트워크의 다른 가중치를 검객하는 데 사용되는 최적화 알고리즘\n",
    " - adam : 효율적인 경사 하강법(gradient descent) 알고리즘\n",
    "- 학습과정에서 수집하기 싶은 측정 기준"
   ]
  },
  {
   "cell_type": "code",
   "execution_count": 34,
   "metadata": {
    "collapsed": false
   },
   "outputs": [],
   "source": [
    "# Compile model\n",
    "model.compile(loss= 'mean_squared_error' , optimizer= 'adam' )"
   ]
  },
  {
   "cell_type": "markdown",
   "metadata": {},
   "source": [
    "---\n",
    "\n",
    "### 모델 학습시키기\n",
    "\n",
    "- nb_epoch : 데이터셋에 대한 반복 횟수\n",
    "- batch_size : 네트워크에서 가중치 개갱신 전에 평가되는 인스턴스의 수"
   ]
  },
  {
   "cell_type": "code",
   "execution_count": 35,
   "metadata": {
    "collapsed": false
   },
   "outputs": [
    {
     "name": "stdout",
     "output_type": "stream",
     "text": [
      "Epoch 1/100\n",
      "0s - loss: 0.0176\n",
      "Epoch 2/100\n",
      "0s - loss: 0.0062\n",
      "Epoch 3/100\n",
      "0s - loss: 0.0052\n",
      "Epoch 4/100\n",
      "0s - loss: 0.0045\n",
      "Epoch 5/100\n",
      "0s - loss: 0.0041\n",
      "Epoch 6/100\n",
      "0s - loss: 0.0036\n",
      "Epoch 7/100\n",
      "0s - loss: 0.0033\n",
      "Epoch 8/100\n",
      "0s - loss: 0.0030\n",
      "Epoch 9/100\n",
      "0s - loss: 0.0030\n",
      "Epoch 10/100\n",
      "0s - loss: 0.0028\n",
      "Epoch 11/100\n",
      "0s - loss: 0.0028\n",
      "Epoch 12/100\n",
      "0s - loss: 0.0027\n",
      "Epoch 13/100\n",
      "0s - loss: 0.0028\n",
      "Epoch 14/100\n",
      "0s - loss: 0.0026\n",
      "Epoch 15/100\n",
      "0s - loss: 0.0026\n",
      "Epoch 16/100\n",
      "0s - loss: 0.0025\n",
      "Epoch 17/100\n",
      "0s - loss: 0.0026\n",
      "Epoch 18/100\n",
      "0s - loss: 0.0025\n",
      "Epoch 19/100\n",
      "0s - loss: 0.0025\n",
      "Epoch 20/100\n",
      "0s - loss: 0.0024\n",
      "Epoch 21/100\n",
      "0s - loss: 0.0024\n",
      "Epoch 22/100\n",
      "0s - loss: 0.0024\n",
      "Epoch 23/100\n",
      "0s - loss: 0.0024\n",
      "Epoch 24/100\n",
      "0s - loss: 0.0023\n",
      "Epoch 25/100\n",
      "0s - loss: 0.0023\n",
      "Epoch 26/100\n",
      "0s - loss: 0.0023\n",
      "Epoch 27/100\n",
      "0s - loss: 0.0023\n",
      "Epoch 28/100\n",
      "0s - loss: 0.0022\n",
      "Epoch 29/100\n",
      "0s - loss: 0.0022\n",
      "Epoch 30/100\n",
      "0s - loss: 0.0022\n",
      "Epoch 31/100\n",
      "0s - loss: 0.0023\n",
      "Epoch 32/100\n",
      "0s - loss: 0.0021\n",
      "Epoch 33/100\n",
      "0s - loss: 0.0022\n",
      "Epoch 34/100\n",
      "0s - loss: 0.0022\n",
      "Epoch 35/100\n",
      "0s - loss: 0.0021\n",
      "Epoch 36/100\n",
      "0s - loss: 0.0022\n",
      "Epoch 37/100\n",
      "0s - loss: 0.0020\n",
      "Epoch 38/100\n",
      "0s - loss: 0.0021\n",
      "Epoch 39/100\n",
      "0s - loss: 0.0021\n",
      "Epoch 40/100\n",
      "0s - loss: 0.0020\n",
      "Epoch 41/100\n",
      "0s - loss: 0.0020\n",
      "Epoch 42/100\n",
      "0s - loss: 0.0020\n",
      "Epoch 43/100\n",
      "0s - loss: 0.0021\n",
      "Epoch 44/100\n",
      "0s - loss: 0.0020\n",
      "Epoch 45/100\n",
      "0s - loss: 0.0020\n",
      "Epoch 46/100\n",
      "0s - loss: 0.0021\n",
      "Epoch 47/100\n",
      "0s - loss: 0.0020\n",
      "Epoch 48/100\n",
      "0s - loss: 0.0019\n",
      "Epoch 49/100\n",
      "0s - loss: 0.0019\n",
      "Epoch 50/100\n",
      "0s - loss: 0.0019\n",
      "Epoch 51/100\n",
      "0s - loss: 0.0020\n",
      "Epoch 52/100\n",
      "0s - loss: 0.0019\n",
      "Epoch 53/100\n",
      "0s - loss: 0.0019\n",
      "Epoch 54/100\n",
      "0s - loss: 0.0019\n",
      "Epoch 55/100\n",
      "0s - loss: 0.0019\n",
      "Epoch 56/100\n",
      "0s - loss: 0.0018\n",
      "Epoch 57/100\n",
      "0s - loss: 0.0019\n",
      "Epoch 58/100\n",
      "0s - loss: 0.0019\n",
      "Epoch 59/100\n",
      "0s - loss: 0.0019\n",
      "Epoch 60/100\n",
      "0s - loss: 0.0018\n",
      "Epoch 61/100\n",
      "0s - loss: 0.0018\n",
      "Epoch 62/100\n",
      "0s - loss: 0.0018\n",
      "Epoch 63/100\n",
      "0s - loss: 0.0019\n",
      "Epoch 64/100\n",
      "0s - loss: 0.0018\n",
      "Epoch 65/100\n",
      "0s - loss: 0.0018\n",
      "Epoch 66/100\n",
      "0s - loss: 0.0018\n",
      "Epoch 67/100\n",
      "0s - loss: 0.0018\n",
      "Epoch 68/100\n",
      "0s - loss: 0.0018\n",
      "Epoch 69/100\n",
      "0s - loss: 0.0018\n",
      "Epoch 70/100\n",
      "0s - loss: 0.0018\n",
      "Epoch 71/100\n",
      "0s - loss: 0.0018\n",
      "Epoch 72/100\n",
      "0s - loss: 0.0018\n",
      "Epoch 73/100\n",
      "0s - loss: 0.0019\n",
      "Epoch 74/100\n",
      "0s - loss: 0.0018\n",
      "Epoch 75/100\n",
      "0s - loss: 0.0018\n",
      "Epoch 76/100\n",
      "0s - loss: 0.0018\n",
      "Epoch 77/100\n",
      "0s - loss: 0.0018\n",
      "Epoch 78/100\n",
      "0s - loss: 0.0017\n",
      "Epoch 79/100\n",
      "0s - loss: 0.0018\n",
      "Epoch 80/100\n",
      "0s - loss: 0.0018\n",
      "Epoch 81/100\n",
      "0s - loss: 0.0017\n",
      "Epoch 82/100\n",
      "0s - loss: 0.0017\n",
      "Epoch 83/100\n",
      "0s - loss: 0.0017\n",
      "Epoch 84/100\n",
      "0s - loss: 0.0018\n",
      "Epoch 85/100\n",
      "0s - loss: 0.0017\n",
      "Epoch 86/100\n",
      "0s - loss: 0.0017\n",
      "Epoch 87/100\n",
      "0s - loss: 0.0017\n",
      "Epoch 88/100\n",
      "0s - loss: 0.0018\n",
      "Epoch 89/100\n",
      "0s - loss: 0.0018\n",
      "Epoch 90/100\n",
      "0s - loss: 0.0018\n",
      "Epoch 91/100\n",
      "0s - loss: 0.0017\n",
      "Epoch 92/100\n",
      "0s - loss: 0.0017\n",
      "Epoch 93/100\n",
      "0s - loss: 0.0017\n",
      "Epoch 94/100\n",
      "0s - loss: 0.0017\n",
      "Epoch 95/100\n",
      "0s - loss: 0.0017\n",
      "Epoch 96/100\n",
      "0s - loss: 0.0018\n",
      "Epoch 97/100\n",
      "0s - loss: 0.0017\n",
      "Epoch 98/100\n",
      "0s - loss: 0.0017\n",
      "Epoch 99/100\n",
      "0s - loss: 0.0017\n",
      "Epoch 100/100\n",
      "0s - loss: 0.0018\n"
     ]
    },
    {
     "data": {
      "text/plain": [
       "<keras.callbacks.History at 0x120b16710>"
      ]
     },
     "execution_count": 35,
     "metadata": {},
     "output_type": "execute_result"
    }
   ],
   "source": [
    "# Fit the model\n",
    "model.fit(trainX, trainY, nb_epoch=100, batch_size=1, verbose=2)"
   ]
  },
  {
   "cell_type": "markdown",
   "metadata": {},
   "source": [
    "---\n",
    "\n",
    "### 모델 사용하기"
   ]
  },
  {
   "cell_type": "code",
   "execution_count": 15,
   "metadata": {
    "collapsed": false
   },
   "outputs": [
    {
     "name": "stdout",
     "output_type": "stream",
     "text": [
      " 32/208 [===>..........................] - ETA: 0s\n",
      "acc: 94.23%\n"
     ]
    }
   ],
   "source": [
    "# make predictions\n",
    "trainPredict = model.predict(trainX)\n",
    "testPredict = model.predict(testX)\n",
    "\n",
    "# invert predictions\n",
    "trainPredict = scaler.inverse_transform(trainPredict)\n",
    "trainY = scaler.inverse_transform([trainY])\n",
    "testPredict = scaler.inverse_transform(testPredict)\n",
    "testY = scaler.inverse_transform([testY])\n",
    "\n",
    "# calculate root mean squared error\n",
    "trainScore = math.sqrt(mean_squared_error(trainY[0], trainPredict[:,0]))\n",
    "print( Train Score: %.2f RMSE  % (trainScore))\n",
    "testScore = math.sqrt(mean_squared_error(testY[0], testPredict[:,0]))\n",
    "print( Test Score: %.2f RMSE  % (testScore))\n",
    "\n",
    "# shift train predictions for plotting\n",
    "trainPredictPlot = numpy.empty_like(dataset)\n",
    "trainPredictPlot[:, :] = numpy.nan\n",
    "trainPredictPlot[look_back:len(trainPredict)+look_back, :] = trainPredict\n",
    "\n",
    "# shift test predictions for plotting\n",
    "testPredictPlot = numpy.empty_like(dataset)\n",
    "testPredictPlot[:, :] = numpy.nan\n",
    "testPredictPlot[len(trainPredict)+(look_back*2)+1:len(dataset)-1, :] = testPredict\n",
    "\n",
    "# plot baseline and predictions\n",
    "plt.plot(scaler.inverse_transform(dataset))\n",
    "plt.plot(trainPredictPlot)\n",
    "plt.plot(testPredictPlot)\n",
    "plt.show()\n"
   ]
  },
  {
   "cell_type": "markdown",
   "metadata": {
    "collapsed": true
   },
   "source": [
    "---\n",
    "\n",
    "### 같이 보기\n",
    "\n",
    "* [강좌 목차](https://tykimos.github.io/Keras/2017/01/27/Keras_Lecture_Plan/)\n",
    "* 이전 : [딥러닝 이야기/레이어 이야기](https://tykimos.github.io/Keras/2017/01/27/Layer_Talk/)\n",
    "* 다음 : [딥러닝 기본 실습/컨볼루션 신경망 모델 만들어보기](https://tykimos.github.io/Keras/2017/02/04/CNN_Getting_Started/)"
   ]
  },
  {
   "cell_type": "code",
   "execution_count": null,
   "metadata": {
    "collapsed": true
   },
   "outputs": [],
   "source": []
  }
 ],
 "metadata": {
  "kernelspec": {
   "display_name": "Python 2",
   "language": "python",
   "name": "python2"
  },
  "language_info": {
   "codemirror_mode": {
    "name": "ipython",
    "version": 2
   },
   "file_extension": ".py",
   "mimetype": "text/x-python",
   "name": "python",
   "nbconvert_exporter": "python",
   "pygments_lexer": "ipython2",
   "version": "2.7.10"
  }
 },
 "nbformat": 4,
 "nbformat_minor": 0
}
