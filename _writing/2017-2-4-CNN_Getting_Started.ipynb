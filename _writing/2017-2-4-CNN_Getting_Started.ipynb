{
 "cells": [
  {
   "cell_type": "raw",
   "metadata": {},
   "source": [
    "---\n",
    "layout: post\n",
    "title:  \"컨볼루션 신경망 모델 만들어보기\"\n",
    "author: Taeyoung, Kim\n",
    "date:   2017-02-04 00:00:00\n",
    "categories: Keras\n",
    "comments: true\n",
    "---"
   ]
  },
  {
   "cell_type": "markdown",
   "metadata": {},
   "source": [
    "본 강좌에서는 간단한 다층 퍼셉트론을 만들어봅니다. 늘 그렇듯이 다음과 같은 순서로 진행하겠습니다.\n",
    "\n",
    "1. 데이터셋 준비하기\n",
    "1. 모델 구성하기\n",
    "1. 모델 엮기\n",
    "1. 모델 학습시키기\n",
    "1. 모델 평가하기"
   ]
  },
  {
   "cell_type": "markdown",
   "metadata": {},
   "source": [
    "---\n",
    "\n",
    "### 데이터셋 살펴보기\n",
    "\n",
    "The MNIST problem is a dataset developed by Yann LeCun, Corinna Cortes and Christopher Burges for evaluating machine learning models on the handwritten digit classification problem1. The dataset was constructed from a number of scanned document datasets available from the National Institute of Standards and Technology (NIST). This is where the name for the dataset comes from, as the Modified NIST or MNIST dataset.\n",
    "Images of digits were taken from a variety of scanned documents, normalized in size and centered. This makes it an excellent dataset for evaluating models, allowing the developer to focus on the machine learning with very little data cleaning or preparation required. Each image is a 28 ⇥ 28 pixel square (784 pixels total). A standard split of the dataset is used to\n",
    "1http://yann.lecun.com/exdb/mnist/\n",
    "    121\n",
    "19.2. Loading the MNIST dataset in Keras 122\n",
    "evaluate and compare models, where 60,000 images are used to train a model and a separate set of 10,000 images are used to test it.\n",
    "It is a digit recognition task. As such there are 10 digits (0 to 9) or 10 classes to predict. Results are reported using prediction error, which is nothing more than the inverted classification accuracy. Excellent results achieve a prediction error of less than 1%. State-of-the-art prediction error of approximately 0.2% can be achieved with large Convolutional Neural Networks. There is a listing of the state-of-the-art results and links to the relevant papers on the MNIST and other datasets on Rodrigo Benenson’s webpage2."
   ]
  },
  {
   "cell_type": "code",
   "execution_count": 1,
   "metadata": {
    "collapsed": false
   },
   "outputs": [
    {
     "name": "stderr",
     "output_type": "stream",
     "text": [
      "Using Theano backend.\n"
     ]
    },
    {
     "data": {
      "image/png": "[encoded data removed]",
      "text/plain": [
       "<matplotlib.figure.Figure at 0x10d7615d0>"
      ]
     },
     "metadata": {},
     "output_type": "display_data"
    }
   ],
   "source": [
    "# Plot ad hoc mnist instances\n",
    "from keras.datasets import mnist\n",
    "import matplotlib.pyplot as plt\n",
    "%matplotlib inline  \n",
    "\n",
    "# load (downloaded if needed) the MNIST dataset\n",
    "(X_train, y_train), (X_test, y_test) = mnist.load_data()\n",
    "# plot 4 images as gray scale\n",
    "plt.subplot(221)\n",
    "plt.imshow(X_train[0], cmap=plt.get_cmap('gray'))\n",
    "plt.subplot(222)\n",
    "plt.imshow(X_train[1], cmap=plt.get_cmap('gray'))\n",
    "plt.subplot(223)\n",
    "plt.imshow(X_train[2], cmap=plt.get_cmap('gray'))\n",
    "plt.subplot(224)\n",
    "plt.imshow(X_train[3], cmap=plt.get_cmap('gray'))\n",
    "# show the plot\n",
    "plt.show()"
   ]
  },
  {
   "cell_type": "markdown",
   "metadata": {},
   "source": [
    "![svg]({{ site.baseurl }}/posts_warehouse/2017-2-4-CNN_Getting_Started-1.svg)"
   ]
  },
  {
   "cell_type": "code",
   "execution_count": 2,
   "metadata": {
    "collapsed": false
   },
   "outputs": [],
   "source": [
    "import numpy\n",
    "from keras.datasets import mnist\n",
    "from keras.models import Sequential\n",
    "from keras.layers import Dense\n",
    "from keras.layers import Dropout\n",
    "from keras.layers import Flatten\n",
    "from keras.layers.convolutional import Convolution2D\n",
    "from keras.layers.convolutional import MaxPooling2D\n",
    "from keras.utils import np_utils\n",
    "\n",
    "# fix random seed for reproducibility\n",
    "seed = 7\n",
    "numpy.random.seed(seed)"
   ]
  },
  {
   "cell_type": "markdown",
   "metadata": {},
   "source": [
    "Next we need to load the MNIST dataset and reshape it so that it is suitable for use training a CNN. In Keras, the layers used for two-dimensional convolutions expect pixel values with the dimensions [channels][width][height]. In the case of RGB, the first dimension channels would be 3 for the red, green and blue components and it would be like having 3 image inputs for every color image. In the case of MNIST where the channels values are gray scale, the pixel dimension is set to 1."
   ]
  },
  {
   "cell_type": "code",
   "execution_count": 3,
   "metadata": {
    "collapsed": false
   },
   "outputs": [],
   "source": [
    "# load data\n",
    "(X_train, y_train), (X_test, y_test) = mnist.load_data()\n",
    "# reshape to be [saamples][channels][width][height]\n",
    "X_train = X_train.reshape(X_train.shape[0], 1, 28, 28).astype('float32')\n",
    "X_test = X_test.reshape(X_test.shape[0], 1, 28, 28).astype('float32')"
   ]
  },
  {
   "cell_type": "markdown",
   "metadata": {},
   "source": [
    "As before, it is a good idea to normalize the pixel values to the range 0 and 1 and one hot encode the output variable."
   ]
  },
  {
   "cell_type": "code",
   "execution_count": 4,
   "metadata": {
    "collapsed": true
   },
   "outputs": [],
   "source": [
    "# normalize inputs from 0-255 to 0-1\n",
    "X_train = X_train / 255\n",
    "X_test = X_test / 255\n",
    "# one hot encode outputs\n",
    "y_train = np_utils.to_categorical(y_train)\n",
    "y_test = np_utils.to_categorical(y_test)\n",
    "num_classes = y_test.shape[1]"
   ]
  },
  {
   "cell_type": "markdown",
   "metadata": {},
   "source": [
    "---\n",
    "\n",
    "### 모델 구성하기\n",
    "\n",
    "Next we define our neural network model. Convolutional neural networks are more complex than standard Multilayer Perceptrons, so we will start by using a simple structure to begin with that uses all of the elements for state-of-the-art results. Below summarizes the network architecture.\n",
    "1. The first hidden layer is a convolutional layer called a Convolution2D. The layer has 32 feature maps, which with the size of 5 ⇥ 5 and a rectifier activation function. This is the input layer, expecting images with the structure outline above.\n",
    "2. Next we define a pooling layer that takes the maximum value called MaxPooling2D. It is configured with a pool size of 2 ⇥ 2.\n",
    "3. The next layer is a regularization layer using dropout called Dropout. It is configured to randomly exclude 20% of neurons in the layer in order to reduce overfitting.\n",
    "4. Next is a layer that converts the 2D matrix data to a vector called Flatten. It allows the output to be processed by standard fully connected layers.\n",
    "5. Next a fully connected layer with 128 neurons and rectifier activation function is used.\n",
    "6. Finally, the output layer has 10 neurons for the 10 classes and a softmax activation function to output probability-like predictions for each class.\n",
    "As before, the model is trained using logarithmic loss and the ADAM gradient descent algorithm. A depiction of the network structure is provided below."
   ]
  },
  {
   "cell_type": "code",
   "execution_count": 5,
   "metadata": {
    "collapsed": false
   },
   "outputs": [],
   "source": [
    "\n",
    "# create model\n",
    "model = Sequential()\n",
    "model.add(Convolution2D(32, 5, 5, border_mode='valid', input_shape=(1, 28, 28),\n",
    "  activation='relu'))\n",
    "model.add(MaxPooling2D(pool_size=(2, 2)))\n",
    "model.add(Dropout(0.2))\n",
    "model.add(Flatten())\n",
    "model.add(Dense(128, activation='relu'))\n",
    "model.add(Dense(num_classes, activation='softmax'))"
   ]
  },
  {
   "cell_type": "code",
   "execution_count": 6,
   "metadata": {
    "collapsed": false
   },
   "outputs": [
    {
     "data": {
      "image/svg+xml": [
       "<svg height=\"539pt\" viewBox=\"0.00 0.00 397.00 539.00\" width=\"397pt\" xmlns=\"http://www.w3.org/2000/svg\" xmlns:xlink=\"http://www.w3.org/1999/xlink\">\n",
       "<g class=\"graph\" id=\"graph0\" transform=\"scale(1 1) rotate(0) translate(4 535)\">\n",
       "<title>G</title>\n",
       "<polygon fill=\"#ffffff\" points=\"-4,4 -4,-535 392.9971,-535 392.9971,4 -4,4\" stroke=\"transparent\"/>\n",
       "<!-- 4523756176 -->\n",
       "<g class=\"node\" id=\"node1\">\n",
       "<title>4523756176</title>\n",
       "<polygon fill=\"none\" points=\"0,-486.5 0,-530.5 388.9971,-530.5 388.9971,-486.5 0,-486.5\" stroke=\"#000000\"/>\n",
       "<text fill=\"#000000\" font-family=\"Times,serif\" font-size=\"14.00\" text-anchor=\"middle\" x=\"110.8398\" y=\"-504.3\">convolution2d_input_1 (InputLayer)</text>\n",
       "<polyline fill=\"none\" points=\"221.6797,-486.5 221.6797,-530.5 \" stroke=\"#000000\"/>\n",
       "<text fill=\"#000000\" font-family=\"Times,serif\" font-size=\"14.00\" text-anchor=\"middle\" x=\"249.5142\" y=\"-515.3\">input:</text>\n",
       "<polyline fill=\"none\" points=\"221.6797,-508.5 277.3486,-508.5 \" stroke=\"#000000\"/>\n",
       "<text fill=\"#000000\" font-family=\"Times,serif\" font-size=\"14.00\" text-anchor=\"middle\" x=\"249.5142\" y=\"-493.3\">output:</text>\n",
       "<polyline fill=\"none\" points=\"277.3486,-486.5 277.3486,-530.5 \" stroke=\"#000000\"/>\n",
       "<text fill=\"#000000\" font-family=\"Times,serif\" font-size=\"14.00\" text-anchor=\"middle\" x=\"333.1729\" y=\"-515.3\">(None, 1, 28, 28)</text>\n",
       "<polyline fill=\"none\" points=\"277.3486,-508.5 388.9971,-508.5 \" stroke=\"#000000\"/>\n",
       "<text fill=\"#000000\" font-family=\"Times,serif\" font-size=\"14.00\" text-anchor=\"middle\" x=\"333.1729\" y=\"-493.3\">(None, 1, 28, 28)</text>\n",
       "</g>\n",
       "<!-- 4523320656 -->\n",
       "<g class=\"node\" id=\"node2\">\n",
       "<title>4523320656</title>\n",
       "<polygon fill=\"none\" points=\"1.9277,-405.5 1.9277,-449.5 387.0693,-449.5 387.0693,-405.5 1.9277,-405.5\" stroke=\"#000000\"/>\n",
       "<text fill=\"#000000\" font-family=\"Times,serif\" font-size=\"14.00\" text-anchor=\"middle\" x=\"107.3398\" y=\"-423.3\">convolution2d_1 (Convolution2D)</text>\n",
       "<polyline fill=\"none\" points=\"212.752,-405.5 212.752,-449.5 \" stroke=\"#000000\"/>\n",
       "<text fill=\"#000000\" font-family=\"Times,serif\" font-size=\"14.00\" text-anchor=\"middle\" x=\"240.5864\" y=\"-434.3\">input:</text>\n",
       "<polyline fill=\"none\" points=\"212.752,-427.5 268.4209,-427.5 \" stroke=\"#000000\"/>\n",
       "<text fill=\"#000000\" font-family=\"Times,serif\" font-size=\"14.00\" text-anchor=\"middle\" x=\"240.5864\" y=\"-412.3\">output:</text>\n",
       "<polyline fill=\"none\" points=\"268.4209,-405.5 268.4209,-449.5 \" stroke=\"#000000\"/>\n",
       "<text fill=\"#000000\" font-family=\"Times,serif\" font-size=\"14.00\" text-anchor=\"middle\" x=\"327.7451\" y=\"-434.3\">(None, 1, 28, 28)</text>\n",
       "<polyline fill=\"none\" points=\"268.4209,-427.5 387.0693,-427.5 \" stroke=\"#000000\"/>\n",
       "<text fill=\"#000000\" font-family=\"Times,serif\" font-size=\"14.00\" text-anchor=\"middle\" x=\"327.7451\" y=\"-412.3\">(None, 32, 24, 24)</text>\n",
       "</g>\n",
       "<!-- 4523756176&#45;&gt;4523320656 -->\n",
       "<g class=\"edge\" id=\"edge1\">\n",
       "<title>4523756176-&gt;4523320656</title>\n",
       "<path d=\"M194.4985,-486.3664C194.4985,-478.1516 194.4985,-468.6579 194.4985,-459.7252\" fill=\"none\" stroke=\"#000000\"/>\n",
       "<polygon fill=\"#000000\" points=\"197.9986,-459.6068 194.4985,-449.6068 190.9986,-459.6069 197.9986,-459.6068\" stroke=\"#000000\"/>\n",
       "</g>\n",
       "<!-- 4525562512 -->\n",
       "<g class=\"node\" id=\"node3\">\n",
       "<title>4525562512</title>\n",
       "<polygon fill=\"none\" points=\"2.3174,-324.5 2.3174,-368.5 386.6797,-368.5 386.6797,-324.5 2.3174,-324.5\" stroke=\"#000000\"/>\n",
       "<text fill=\"#000000\" font-family=\"Times,serif\" font-size=\"14.00\" text-anchor=\"middle\" x=\"107.3398\" y=\"-342.3\">maxpooling2d_1 (MaxPooling2D)</text>\n",
       "<polyline fill=\"none\" points=\"212.3623,-324.5 212.3623,-368.5 \" stroke=\"#000000\"/>\n",
       "<text fill=\"#000000\" font-family=\"Times,serif\" font-size=\"14.00\" text-anchor=\"middle\" x=\"240.1968\" y=\"-353.3\">input:</text>\n",
       "<polyline fill=\"none\" points=\"212.3623,-346.5 268.0313,-346.5 \" stroke=\"#000000\"/>\n",
       "<text fill=\"#000000\" font-family=\"Times,serif\" font-size=\"14.00\" text-anchor=\"middle\" x=\"240.1968\" y=\"-331.3\">output:</text>\n",
       "<polyline fill=\"none\" points=\"268.0313,-324.5 268.0313,-368.5 \" stroke=\"#000000\"/>\n",
       "<text fill=\"#000000\" font-family=\"Times,serif\" font-size=\"14.00\" text-anchor=\"middle\" x=\"327.3555\" y=\"-353.3\">(None, 32, 24, 24)</text>\n",
       "<polyline fill=\"none\" points=\"268.0313,-346.5 386.6797,-346.5 \" stroke=\"#000000\"/>\n",
       "<text fill=\"#000000\" font-family=\"Times,serif\" font-size=\"14.00\" text-anchor=\"middle\" x=\"327.3555\" y=\"-331.3\">(None, 32, 12, 12)</text>\n",
       "</g>\n",
       "<!-- 4523320656&#45;&gt;4525562512 -->\n",
       "<g class=\"edge\" id=\"edge2\">\n",
       "<title>4523320656-&gt;4525562512</title>\n",
       "<path d=\"M194.4985,-405.3664C194.4985,-397.1516 194.4985,-387.6579 194.4985,-378.7252\" fill=\"none\" stroke=\"#000000\"/>\n",
       "<polygon fill=\"#000000\" points=\"197.9986,-378.6068 194.4985,-368.6068 190.9986,-378.6069 197.9986,-378.6068\" stroke=\"#000000\"/>\n",
       "</g>\n",
       "<!-- 4525562768 -->\n",
       "<g class=\"node\" id=\"node4\">\n",
       "<title>4525562768</title>\n",
       "<polygon fill=\"none\" points=\"40.8208,-243.5 40.8208,-287.5 348.1763,-287.5 348.1763,-243.5 40.8208,-243.5\" stroke=\"#000000\"/>\n",
       "<text fill=\"#000000\" font-family=\"Times,serif\" font-size=\"14.00\" text-anchor=\"middle\" x=\"107.3398\" y=\"-261.3\">dropout_1 (Dropout)</text>\n",
       "<polyline fill=\"none\" points=\"173.8589,-243.5 173.8589,-287.5 \" stroke=\"#000000\"/>\n",
       "<text fill=\"#000000\" font-family=\"Times,serif\" font-size=\"14.00\" text-anchor=\"middle\" x=\"201.6934\" y=\"-272.3\">input:</text>\n",
       "<polyline fill=\"none\" points=\"173.8589,-265.5 229.5278,-265.5 \" stroke=\"#000000\"/>\n",
       "<text fill=\"#000000\" font-family=\"Times,serif\" font-size=\"14.00\" text-anchor=\"middle\" x=\"201.6934\" y=\"-250.3\">output:</text>\n",
       "<polyline fill=\"none\" points=\"229.5278,-243.5 229.5278,-287.5 \" stroke=\"#000000\"/>\n",
       "<text fill=\"#000000\" font-family=\"Times,serif\" font-size=\"14.00\" text-anchor=\"middle\" x=\"288.8521\" y=\"-272.3\">(None, 32, 12, 12)</text>\n",
       "<polyline fill=\"none\" points=\"229.5278,-265.5 348.1763,-265.5 \" stroke=\"#000000\"/>\n",
       "<text fill=\"#000000\" font-family=\"Times,serif\" font-size=\"14.00\" text-anchor=\"middle\" x=\"288.8521\" y=\"-250.3\">(None, 32, 12, 12)</text>\n",
       "</g>\n",
       "<!-- 4525562512&#45;&gt;4525562768 -->\n",
       "<g class=\"edge\" id=\"edge3\">\n",
       "<title>4525562512-&gt;4525562768</title>\n",
       "<path d=\"M194.4985,-324.3664C194.4985,-316.1516 194.4985,-306.6579 194.4985,-297.7252\" fill=\"none\" stroke=\"#000000\"/>\n",
       "<polygon fill=\"#000000\" points=\"197.9986,-297.6068 194.4985,-287.6068 190.9986,-297.6069 197.9986,-297.6068\" stroke=\"#000000\"/>\n",
       "</g>\n",
       "<!-- 4525887824 -->\n",
       "<g class=\"node\" id=\"node5\">\n",
       "<title>4525887824</title>\n",
       "<polygon fill=\"none\" points=\"48.9897,-162.5 48.9897,-206.5 340.0073,-206.5 340.0073,-162.5 48.9897,-162.5\" stroke=\"#000000\"/>\n",
       "<text fill=\"#000000\" font-family=\"Times,serif\" font-size=\"14.00\" text-anchor=\"middle\" x=\"107.3398\" y=\"-180.3\">flatten_1 (Flatten)</text>\n",
       "<polyline fill=\"none\" points=\"165.6899,-162.5 165.6899,-206.5 \" stroke=\"#000000\"/>\n",
       "<text fill=\"#000000\" font-family=\"Times,serif\" font-size=\"14.00\" text-anchor=\"middle\" x=\"193.5244\" y=\"-191.3\">input:</text>\n",
       "<polyline fill=\"none\" points=\"165.6899,-184.5 221.3589,-184.5 \" stroke=\"#000000\"/>\n",
       "<text fill=\"#000000\" font-family=\"Times,serif\" font-size=\"14.00\" text-anchor=\"middle\" x=\"193.5244\" y=\"-169.3\">output:</text>\n",
       "<polyline fill=\"none\" points=\"221.3589,-162.5 221.3589,-206.5 \" stroke=\"#000000\"/>\n",
       "<text fill=\"#000000\" font-family=\"Times,serif\" font-size=\"14.00\" text-anchor=\"middle\" x=\"280.6831\" y=\"-191.3\">(None, 32, 12, 12)</text>\n",
       "<polyline fill=\"none\" points=\"221.3589,-184.5 340.0073,-184.5 \" stroke=\"#000000\"/>\n",
       "<text fill=\"#000000\" font-family=\"Times,serif\" font-size=\"14.00\" text-anchor=\"middle\" x=\"280.6831\" y=\"-169.3\">(None, 4608)</text>\n",
       "</g>\n",
       "<!-- 4525562768&#45;&gt;4525887824 -->\n",
       "<g class=\"edge\" id=\"edge4\">\n",
       "<title>4525562768-&gt;4525887824</title>\n",
       "<path d=\"M194.4985,-243.3664C194.4985,-235.1516 194.4985,-225.6579 194.4985,-216.7252\" fill=\"none\" stroke=\"#000000\"/>\n",
       "<polygon fill=\"#000000\" points=\"197.9986,-216.6068 194.4985,-206.6068 190.9986,-216.6069 197.9986,-216.6068\" stroke=\"#000000\"/>\n",
       "</g>\n",
       "<!-- 4542891728 -->\n",
       "<g class=\"node\" id=\"node6\">\n",
       "<title>4542891728</title>\n",
       "<polygon fill=\"none\" points=\"66.4966,-81.5 66.4966,-125.5 322.5005,-125.5 322.5005,-81.5 66.4966,-81.5\" stroke=\"#000000\"/>\n",
       "<text fill=\"#000000\" font-family=\"Times,serif\" font-size=\"14.00\" text-anchor=\"middle\" x=\"121.3398\" y=\"-99.3\">dense_1 (Dense)</text>\n",
       "<polyline fill=\"none\" points=\"176.1831,-81.5 176.1831,-125.5 \" stroke=\"#000000\"/>\n",
       "<text fill=\"#000000\" font-family=\"Times,serif\" font-size=\"14.00\" text-anchor=\"middle\" x=\"204.0176\" y=\"-110.3\">input:</text>\n",
       "<polyline fill=\"none\" points=\"176.1831,-103.5 231.8521,-103.5 \" stroke=\"#000000\"/>\n",
       "<text fill=\"#000000\" font-family=\"Times,serif\" font-size=\"14.00\" text-anchor=\"middle\" x=\"204.0176\" y=\"-88.3\">output:</text>\n",
       "<polyline fill=\"none\" points=\"231.8521,-81.5 231.8521,-125.5 \" stroke=\"#000000\"/>\n",
       "<text fill=\"#000000\" font-family=\"Times,serif\" font-size=\"14.00\" text-anchor=\"middle\" x=\"277.1763\" y=\"-110.3\">(None, 4608)</text>\n",
       "<polyline fill=\"none\" points=\"231.8521,-103.5 322.5005,-103.5 \" stroke=\"#000000\"/>\n",
       "<text fill=\"#000000\" font-family=\"Times,serif\" font-size=\"14.00\" text-anchor=\"middle\" x=\"277.1763\" y=\"-88.3\">(None, 128)</text>\n",
       "</g>\n",
       "<!-- 4525887824&#45;&gt;4542891728 -->\n",
       "<g class=\"edge\" id=\"edge5\">\n",
       "<title>4525887824-&gt;4542891728</title>\n",
       "<path d=\"M194.4985,-162.3664C194.4985,-154.1516 194.4985,-144.6579 194.4985,-135.7252\" fill=\"none\" stroke=\"#000000\"/>\n",
       "<polygon fill=\"#000000\" points=\"197.9986,-135.6068 194.4985,-125.6068 190.9986,-135.6069 197.9986,-135.6068\" stroke=\"#000000\"/>\n",
       "</g>\n",
       "<!-- 4543633488 -->\n",
       "<g class=\"node\" id=\"node7\">\n",
       "<title>4543633488</title>\n",
       "<polygon fill=\"none\" points=\"69.9966,-.5 69.9966,-44.5 319.0005,-44.5 319.0005,-.5 69.9966,-.5\" stroke=\"#000000\"/>\n",
       "<text fill=\"#000000\" font-family=\"Times,serif\" font-size=\"14.00\" text-anchor=\"middle\" x=\"124.8398\" y=\"-18.3\">dense_2 (Dense)</text>\n",
       "<polyline fill=\"none\" points=\"179.6831,-.5 179.6831,-44.5 \" stroke=\"#000000\"/>\n",
       "<text fill=\"#000000\" font-family=\"Times,serif\" font-size=\"14.00\" text-anchor=\"middle\" x=\"207.5176\" y=\"-29.3\">input:</text>\n",
       "<polyline fill=\"none\" points=\"179.6831,-22.5 235.3521,-22.5 \" stroke=\"#000000\"/>\n",
       "<text fill=\"#000000\" font-family=\"Times,serif\" font-size=\"14.00\" text-anchor=\"middle\" x=\"207.5176\" y=\"-7.3\">output:</text>\n",
       "<polyline fill=\"none\" points=\"235.3521,-.5 235.3521,-44.5 \" stroke=\"#000000\"/>\n",
       "<text fill=\"#000000\" font-family=\"Times,serif\" font-size=\"14.00\" text-anchor=\"middle\" x=\"277.1763\" y=\"-29.3\">(None, 128)</text>\n",
       "<polyline fill=\"none\" points=\"235.3521,-22.5 319.0005,-22.5 \" stroke=\"#000000\"/>\n",
       "<text fill=\"#000000\" font-family=\"Times,serif\" font-size=\"14.00\" text-anchor=\"middle\" x=\"277.1763\" y=\"-7.3\">(None, 10)</text>\n",
       "</g>\n",
       "<!-- 4542891728&#45;&gt;4543633488 -->\n",
       "<g class=\"edge\" id=\"edge6\">\n",
       "<title>4542891728-&gt;4543633488</title>\n",
       "<path d=\"M194.4985,-81.3664C194.4985,-73.1516 194.4985,-63.6579 194.4985,-54.7252\" fill=\"none\" stroke=\"#000000\"/>\n",
       "<polygon fill=\"#000000\" points=\"197.9986,-54.6068 194.4985,-44.6068 190.9986,-54.6069 197.9986,-54.6068\" stroke=\"#000000\"/>\n",
       "</g>\n",
       "</g>\n",
       "</svg>"
      ],
      "text/plain": [
       "<IPython.core.display.SVG object>"
      ]
     },
     "execution_count": 6,
     "metadata": {},
     "output_type": "execute_result"
    }
   ],
   "source": [
    "from IPython.display import SVG\n",
    "from keras.utils.visualize_util import model_to_dot\n",
    "\n",
    "# brew install graphviz\n",
    "# pip uninstall -y pydot\n",
    "# pip install pydot-ng\n",
    "\n",
    "SVG(model_to_dot(model, show_shapes=True).create(prog='dot', format='svg'))"
   ]
  },
  {
   "cell_type": "markdown",
   "metadata": {},
   "source": [
    "![svg]({{ site.baseurl }}/posts_warehouse/2017-2-4-CNN_Getting_Started-2.svg)"
   ]
  },
  {
   "cell_type": "markdown",
   "metadata": {},
   "source": [
    "### 모델 엮기\n",
    "\n",
    "컴파일 시에 정의해야하는 것들\n",
    "- 가중치 세트를 평가하는 데 사용할 손실함수(loss function)\n",
    " - binary_crossentropy : 이진 분류를 위한 logarithmic loss\n",
    "- 네트워크의 다른 가중치를 검객하는 데 사용되는 최적화 알고리즘\n",
    " - adam : 효율적인 경사 하강법(gradient descent) 알고리즘\n",
    "- 학습과정에서 수집하기 싶은 측정 기준"
   ]
  },
  {
   "cell_type": "code",
   "execution_count": 7,
   "metadata": {
    "collapsed": false
   },
   "outputs": [],
   "source": [
    "# Compile model\n",
    "model.compile(loss='categorical_crossentropy', optimizer='adam', metrics=['accuracy'])"
   ]
  },
  {
   "cell_type": "markdown",
   "metadata": {},
   "source": [
    "### 모델 학습시키기\n",
    "\n",
    "- nb_epoch : 데이터셋에 대한 반복 횟수\n",
    "- batch_size : 네트워크에서 가중치 개갱신 전에 평가되는 인스턴스의 수"
   ]
  },
  {
   "cell_type": "code",
   "execution_count": 8,
   "metadata": {
    "collapsed": false
   },
   "outputs": [
    {
     "name": "stdout",
     "output_type": "stream",
     "text": [
      "Train on 60000 samples, validate on 10000 samples\n",
      "Epoch 1/10\n",
      "89s - loss: 0.2065 - acc: 0.9369 - val_loss: 0.0759 - val_acc: 0.9758\n",
      "Epoch 2/10\n",
      "88s - loss: 0.0644 - acc: 0.9805 - val_loss: 0.0466 - val_acc: 0.9833\n",
      "Epoch 3/10\n",
      "91s - loss: 0.0447 - acc: 0.9862 - val_loss: 0.0395 - val_acc: 0.9880\n",
      "Epoch 4/10\n",
      "93s - loss: 0.0348 - acc: 0.9889 - val_loss: 0.0356 - val_acc: 0.9889\n",
      "Epoch 5/10\n",
      "63s - loss: 0.0269 - acc: 0.9915 - val_loss: 0.0339 - val_acc: 0.9892\n",
      "Epoch 6/10\n",
      "61s - loss: 0.0213 - acc: 0.9934 - val_loss: 0.0401 - val_acc: 0.9875\n",
      "Epoch 7/10\n",
      "57s - loss: 0.0186 - acc: 0.9943 - val_loss: 0.0353 - val_acc: 0.9885\n",
      "Epoch 8/10\n",
      "61s - loss: 0.0143 - acc: 0.9953 - val_loss: 0.0334 - val_acc: 0.9895\n",
      "Epoch 9/10\n",
      "89s - loss: 0.0123 - acc: 0.9960 - val_loss: 0.0378 - val_acc: 0.9888\n",
      "Epoch 10/10\n",
      "101s - loss: 0.0108 - acc: 0.9963 - val_loss: 0.0364 - val_acc: 0.9893\n"
     ]
    },
    {
     "data": {
      "text/plain": [
       "<keras.callbacks.History at 0x1117b0f90>"
      ]
     },
     "execution_count": 8,
     "metadata": {},
     "output_type": "execute_result"
    }
   ],
   "source": [
    "# Fit the model\n",
    "model.fit(X_train, y_train, validation_data=(X_test, y_test), nb_epoch=10, batch_size=200,verbose=2)"
   ]
  },
  {
   "cell_type": "code",
   "execution_count": 9,
   "metadata": {
    "collapsed": false
   },
   "outputs": [
    {
     "name": "stdout",
     "output_type": "stream",
     "text": [
      "CNN Error: 1.07%\n"
     ]
    }
   ],
   "source": [
    "# evaliuate\n",
    "scores = model.evaluate(X_test, y_test, verbose=0)\n",
    "print(\"CNN Error: %.2f%%\" % (100-scores[1]*100))"
   ]
  },
  {
   "cell_type": "markdown",
   "metadata": {
    "collapsed": true
   },
   "source": [
    "---\n",
    "\n",
    "### 같이 보기\n",
    "\n",
    "* [강좌 목차](https://tykimos.github.io/Keras/2017/01/27/Keras_Lecture_Plan/)\n",
    "* 이전 : [딥러닝 기본 실습/다층 퍼셉트론 모델 만들어보기](https://tykimos.github.io/Keras/2017/02/04/MLP_Getting_Started/)\n",
    "* 다음 : [딥러닝 기본 실습/오토인코더 모델 만들어보기](https://tykimos.github.io/Keras/2017/02/04/AutoEncoder_Getting_Started/)"
   ]
  },
  {
   "cell_type": "code",
   "execution_count": null,
   "metadata": {
    "collapsed": true
   },
   "outputs": [],
   "source": []
  }
 ],
 "metadata": {
  "kernelspec": {
   "display_name": "Python 2",
   "language": "python",
   "name": "python2"
  },
  "language_info": {
   "codemirror_mode": {
    "name": "ipython",
    "version": 2
   },
   "file_extension": ".py",
   "mimetype": "text/x-python",
   "name": "python",
   "nbconvert_exporter": "python",
   "pygments_lexer": "ipython2",
   "version": "2.7.10"
  }
 },
 "nbformat": 4,
 "nbformat_minor": 0
}
