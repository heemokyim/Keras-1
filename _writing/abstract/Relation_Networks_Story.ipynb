{
 "cells": [
  {
   "cell_type": "markdown",
   "metadata": {},
   "source": [
    "Input shape\n",
    "\n",
    "4D tensor with shape: (samples, channels, rows, cols) if data_format='channels_first' or 4D tensor with shape: (samples, rows, cols, channels) if data_format='channels_last'.\n",
    "\n",
    "Output shape\n",
    "\n",
    "4D tensor with shape: (samples, filters, new_rows, new_cols) if data_format='channels_first' or 4D tensor with shape: (samples, new_rows, new_cols, filters) if data_format='channels_last'. rows and cols values might have changed due to padding."
   ]
  },
  {
   "cell_type": "code",
   "execution_count": 1,
   "metadata": {
    "collapsed": true
   },
   "outputs": [],
   "source": [
    "# t 샘플, 행, 열, 필터\n",
    "\n",
    "def slice_1(t):\n",
    "    return t[:, 0, :, :]\n",
    "\n",
    "def slice_2(t):\n",
    "    return t[:, 1:, :, :]\n",
    "\n",
    "def slice_3(t):\n",
    "    return t[:, 0, :]\n",
    "\n",
    "def slice_4(t):\n",
    "    return t[:, 1:, :]\n"
   ]
  },
  {
   "cell_type": "code",
   "execution_count": 22,
   "metadata": {
    "collapsed": false
   },
   "outputs": [
    {
     "name": "stdout",
     "output_type": "stream",
     "text": [
      "(2, 3, 3, 1)\n"
     ]
    }
   ],
   "source": [
    "# sample 2 row 3 col 3 feature 1\n",
    "\n",
    "import numpy as np\n",
    "\n",
    "dataset = np.zeros(shape=(2, 3, 3, 1)) \n",
    "\n",
    "dataset = np.array([\n",
    "                       [\n",
    "                           [[1.1], [1.2], [1.3]],\n",
    "                           [[1.4], [1.5], [1.6]],\n",
    "                           [[1.7], [1.8], [1.9]]\n",
    "                       ],\n",
    "                       [\n",
    "                           [[2.1], [2.2], [2.3]],\n",
    "                           [[2.4], [2.5], [2.6]],\n",
    "                           [[2.7], [2.8], [2.9]]\n",
    "                       ]\n",
    "                    ])\n",
    "\n",
    "print(dataset.shape)"
   ]
  },
  {
   "cell_type": "code",
   "execution_count": 24,
   "metadata": {
    "collapsed": false
   },
   "outputs": [
    {
     "ename": "NameError",
     "evalue": "name 'w' is not defined",
     "output_type": "error",
     "traceback": [
      "\u001b[0;31m---------------------------------------------------------------------------\u001b[0m",
      "\u001b[0;31mNameError\u001b[0m                                 Traceback (most recent call last)",
      "\u001b[0;32m<ipython-input-24-6eefe5fdee6b>\u001b[0m in \u001b[0;36m<module>\u001b[0;34m()\u001b[0m\n\u001b[1;32m      3\u001b[0m \u001b[0mfeatures\u001b[0m \u001b[0;34m=\u001b[0m \u001b[0;34m[\u001b[0m\u001b[0;34m]\u001b[0m\u001b[0;34m\u001b[0m\u001b[0m\n\u001b[1;32m      4\u001b[0m \u001b[0;34m\u001b[0m\u001b[0m\n\u001b[0;32m----> 5\u001b[0;31m \u001b[0;32mfor\u001b[0m \u001b[0mk1\u001b[0m \u001b[0;32min\u001b[0m \u001b[0mrange\u001b[0m\u001b[0;34m(\u001b[0m\u001b[0mw\u001b[0m\u001b[0;34m)\u001b[0m\u001b[0;34m:\u001b[0m\u001b[0;34m\u001b[0m\u001b[0m\n\u001b[0m\u001b[1;32m      6\u001b[0m     \u001b[0mfeatures1\u001b[0m \u001b[0;34m=\u001b[0m \u001b[0mslice_1\u001b[0m\u001b[0;34m(\u001b[0m\u001b[0mcnn_features\u001b[0m\u001b[0;34m)\u001b[0m\u001b[0;34m\u001b[0m\u001b[0m\n\u001b[1;32m      7\u001b[0m     \u001b[0mcnn_features\u001b[0m \u001b[0;34m=\u001b[0m \u001b[0mslice_2\u001b[0m\u001b[0;34m(\u001b[0m\u001b[0mcnn_features\u001b[0m\u001b[0;34m)\u001b[0m\u001b[0;34m\u001b[0m\u001b[0m\n",
      "\u001b[0;31mNameError\u001b[0m: name 'w' is not defined"
     ]
    }
   ],
   "source": [
    "cnn_features = dataset\n",
    "\n",
    "features = []\n",
    "\n",
    "for k1 in range(w):\n",
    "    features1 = slice_1(cnn_features)\n",
    "    cnn_features = slice_2(cnn_features)\n",
    "    for k2 in range(h):\n",
    "        features2 = slice_3(features1)\n",
    "        features1 = slice_4(features1)\n",
    "        features.append(features2)"
   ]
  },
  {
   "cell_type": "code",
   "execution_count": null,
   "metadata": {
    "collapsed": true
   },
   "outputs": [],
   "source": []
  }
 ],
 "metadata": {
  "kernelspec": {
   "display_name": "Python 2",
   "language": "python",
   "name": "python2"
  },
  "language_info": {
   "codemirror_mode": {
    "name": "ipython",
    "version": 2
   },
   "file_extension": ".py",
   "mimetype": "text/x-python",
   "name": "python",
   "nbconvert_exporter": "python",
   "pygments_lexer": "ipython2",
   "version": "2.7.10"
  }
 },
 "nbformat": 4,
 "nbformat_minor": 0
}
