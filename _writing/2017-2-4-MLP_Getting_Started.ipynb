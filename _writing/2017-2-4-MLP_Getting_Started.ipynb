{
 "cells": [
  {
   "cell_type": "raw",
   "metadata": {},
   "source": [
    "---\n",
    "layout: post\n",
    "title:  \"다층 퍼셉트론 모델 만들어보기\"\n",
    "author: Taeyoung, Kim\n",
    "date:   2017-02-04 00:00:00\n",
    "categories: Keras\n",
    "comments: true\n",
    "---"
   ]
  },
  {
   "cell_type": "markdown",
   "metadata": {},
   "source": [
    "본 강좌에서는 케라스를 이용하여 간단한 다층 퍼셉트론 모델을 만들어보겠습니다. 다음과 같은 순서로 진행하겠습니다.\n",
    "\n",
    "1. 문제 정의하기\n",
    "1. 데이터셋 준비하기\n",
    "1. 모델 구성하기\n",
    "1. 모델 엮기\n",
    "1. 모델 학습시키기\n",
    "1. 모델 사용하기"
   ]
  },
  {
   "cell_type": "markdown",
   "metadata": {},
   "source": [
    "---\n",
    "\n",
    "### 문제 정의하기\n",
    "\n",
    "다층 퍼셉트론 모델은 가장 기본적인 모델이라 대부분 문제에 적용할 수 있습니다. 본 예제에서는 비교적 쉬운 이진 분류 문제를 적용해보고자 합니다. 이진 분류 예제에 적합한 데이터셋은 8개 변수와 당뇨병 발병 유무가 기록된 '피마족 인디언 당뇨병 발병 데이터셋'이 있습니다. 이 데이터셋을 이용하여 8개 변수를 독립변수로 보고 당뇨병 발병 유무를 예측하는 이진 분류 문제로 정의해보겠습니다. \n",
    "\n",
    "데이터셋은 아래 링크에서 다운로드 받으실 수 있습니다.\n",
    "\n",
    "https://archive.ics.uci.edu/ml/datasets/Pima+Indians+Diabetes\n",
    "\n",
    "'피마족 인디언 당뇨병 발병 데이터셋'을 선정한 이유는 다음과 같습니다. \n",
    "- 인스턴스 수와 특징(변수)의 개수가 샘플 예제로 사용하기에 적당합니다.\n",
    "- 모든 특징이 정수 혹은 실수로 되어 있어서 별도의 전처리 과정이 필요없습니다. "
   ]
  },
  {
   "cell_type": "markdown",
   "metadata": {},
   "source": [
    "---\n",
    "\n",
    "### 데이터셋 준비하기\n",
    "\n",
    "피마족 인디언 당뇨병 발병 데이터셋의 주요 특징으 다음과 같습니다.\n",
    "\n",
    "- 인스턴스 수 : 768개\n",
    "- 특징 수 : 8가지\n",
    "- 클래스 수 : 2가지\n",
    "\n",
    "8가지 특징(1번~8번)과 결과(9번)의 상세 내용은 다음과 같습니다. \n",
    "\n",
    "1. 임신 횟수\n",
    "2. 경구 포도당 내성 검사에서 2시간 동안의 혈장 포도당 농도\n",
    "3. 확장기 혈압 (mm Hg)\n",
    "4. 삼두근 피부의 접은 두께 (mm)\n",
    "5. 2 시간 혈청 인슐린 (mu U/ml)\n",
    "6. 체질량 지수\n",
    "7. 당뇨병 혈통 함수\n",
    "8. 나이 (세)\n",
    "9. 5년 이내 당뇨병이 발병 여부\n",
    "\n",
    "데이터셋의 형태는 CSV로 되어 있습니다. \n",
    "\n",
    "    6,148,72,35,0,33.6,0.627,50,1\n",
    "    1,85,66,29,0,26.6,0.351,31,0\n",
    "    8,183,64,0,0,23.3,0.672,32,1\n",
    "    1,89,66,23,94,28.1,0.167,21,0\n",
    "    0,137,40,35,168,43.1,2.288,33,1\n",
    "    \n",
    "좀 더 살펴보면, 양성인 경우가 268개(34.9%), 음성인 경우가 500개(65.1%)입니다. 즉 모델이 모두 음성이라고 판별을 한다하더라도 65.1%의 기본 정확도(baseline accuracy)를 달성할 수 있습니다. 웹 사이트에 표기된 최대 정확도는 10-fold 교차검증(cross validataion) 했을 때 77.7%입니다."
   ]
  },
  {
   "cell_type": "code",
   "execution_count": 3,
   "metadata": {
    "collapsed": false
   },
   "outputs": [],
   "source": [
    "from keras.models import Sequential\n",
    "from keras.layers import Dense\n",
    "import numpy\n",
    "# fix random seed for reproducibility\n",
    "seed = 7\n",
    "numpy.random.seed(seed)"
   ]
  },
  {
   "cell_type": "markdown",
   "metadata": {},
   "source": [
    "csv 파일은 loadtxt()로 직접 불러올 수 있다."
   ]
  },
  {
   "cell_type": "code",
   "execution_count": 4,
   "metadata": {
    "collapsed": false
   },
   "outputs": [
    {
     "ename": "IOError",
     "evalue": "[Errno 2] No such file or directory: './warehouse/pima-indians-diabetes.csv'",
     "output_type": "error",
     "traceback": [
      "\u001b[0;31m---------------------------------------------------------------------------\u001b[0m",
      "\u001b[0;31mIOError\u001b[0m                                   Traceback (most recent call last)",
      "\u001b[0;32m<ipython-input-4-499bed86d35e>\u001b[0m in \u001b[0;36m<module>\u001b[0;34m()\u001b[0m\n\u001b[1;32m      1\u001b[0m \u001b[0;31m# load pima indians dataset\u001b[0m\u001b[0;34m\u001b[0m\u001b[0;34m\u001b[0m\u001b[0m\n\u001b[0;32m----> 2\u001b[0;31m \u001b[0mdataset\u001b[0m \u001b[0;34m=\u001b[0m \u001b[0mnumpy\u001b[0m\u001b[0;34m.\u001b[0m\u001b[0mloadtxt\u001b[0m\u001b[0;34m(\u001b[0m\u001b[0;34m\"./warehouse/pima-indians-diabetes.csv\"\u001b[0m\u001b[0;34m,\u001b[0m \u001b[0mdelimiter\u001b[0m\u001b[0;34m=\u001b[0m\u001b[0;34m\",\"\u001b[0m\u001b[0;34m)\u001b[0m\u001b[0;34m\u001b[0m\u001b[0m\n\u001b[0m\u001b[1;32m      3\u001b[0m \u001b[0;31m# split into input (X) and output (Y) variables\u001b[0m\u001b[0;34m\u001b[0m\u001b[0;34m\u001b[0m\u001b[0m\n\u001b[1;32m      4\u001b[0m \u001b[0mX\u001b[0m \u001b[0;34m=\u001b[0m \u001b[0mdataset\u001b[0m\u001b[0;34m[\u001b[0m\u001b[0;34m:\u001b[0m\u001b[0;34m,\u001b[0m\u001b[0;36m0\u001b[0m\u001b[0;34m:\u001b[0m\u001b[0;36m8\u001b[0m\u001b[0;34m]\u001b[0m\u001b[0;34m\u001b[0m\u001b[0m\n\u001b[1;32m      5\u001b[0m \u001b[0mY\u001b[0m \u001b[0;34m=\u001b[0m \u001b[0mdataset\u001b[0m\u001b[0;34m[\u001b[0m\u001b[0;34m:\u001b[0m\u001b[0;34m,\u001b[0m\u001b[0;36m8\u001b[0m\u001b[0;34m]\u001b[0m\u001b[0;34m\u001b[0m\u001b[0m\n",
      "\u001b[0;32m/Users/tykimos/Projects/Keras/venv/lib/python2.7/site-packages/numpy/lib/npyio.pyc\u001b[0m in \u001b[0;36mloadtxt\u001b[0;34m(fname, dtype, comments, delimiter, converters, skiprows, usecols, unpack, ndmin)\u001b[0m\n\u001b[1;32m    856\u001b[0m                 \u001b[0mfh\u001b[0m \u001b[0;34m=\u001b[0m \u001b[0miter\u001b[0m\u001b[0;34m(\u001b[0m\u001b[0mbz2\u001b[0m\u001b[0;34m.\u001b[0m\u001b[0mBZ2File\u001b[0m\u001b[0;34m(\u001b[0m\u001b[0mfname\u001b[0m\u001b[0;34m)\u001b[0m\u001b[0;34m)\u001b[0m\u001b[0;34m\u001b[0m\u001b[0m\n\u001b[1;32m    857\u001b[0m             \u001b[0;32melif\u001b[0m \u001b[0msys\u001b[0m\u001b[0;34m.\u001b[0m\u001b[0mversion_info\u001b[0m\u001b[0;34m[\u001b[0m\u001b[0;36m0\u001b[0m\u001b[0;34m]\u001b[0m \u001b[0;34m==\u001b[0m \u001b[0;36m2\u001b[0m\u001b[0;34m:\u001b[0m\u001b[0;34m\u001b[0m\u001b[0m\n\u001b[0;32m--> 858\u001b[0;31m                 \u001b[0mfh\u001b[0m \u001b[0;34m=\u001b[0m \u001b[0miter\u001b[0m\u001b[0;34m(\u001b[0m\u001b[0mopen\u001b[0m\u001b[0;34m(\u001b[0m\u001b[0mfname\u001b[0m\u001b[0;34m,\u001b[0m \u001b[0;34m'U'\u001b[0m\u001b[0;34m)\u001b[0m\u001b[0;34m)\u001b[0m\u001b[0;34m\u001b[0m\u001b[0m\n\u001b[0m\u001b[1;32m    859\u001b[0m             \u001b[0;32melse\u001b[0m\u001b[0;34m:\u001b[0m\u001b[0;34m\u001b[0m\u001b[0m\n\u001b[1;32m    860\u001b[0m                 \u001b[0mfh\u001b[0m \u001b[0;34m=\u001b[0m \u001b[0miter\u001b[0m\u001b[0;34m(\u001b[0m\u001b[0mopen\u001b[0m\u001b[0;34m(\u001b[0m\u001b[0mfname\u001b[0m\u001b[0;34m)\u001b[0m\u001b[0;34m)\u001b[0m\u001b[0;34m\u001b[0m\u001b[0m\n",
      "\u001b[0;31mIOError\u001b[0m: [Errno 2] No such file or directory: './warehouse/pima-indians-diabetes.csv'"
     ]
    }
   ],
   "source": [
    "# load pima indians dataset\n",
    "dataset = numpy.loadtxt(\"./warehouse/pima-indians-diabetes.csv\", delimiter=\",\")\n",
    "# split into input (X) and output (Y) variables\n",
    "X = dataset[:,0:8]\n",
    "Y = dataset[:,8]"
   ]
  },
  {
   "cell_type": "markdown",
   "metadata": {},
   "source": [
    "---\n",
    "\n",
    "### 모델 구성하기\n",
    "\n",
    "Dense 클래스를 사용하여 완전 연결 레이어(Fully Connected Layer)를 정의할 수 있다.\n",
    "\n",
    "- 첫번째 인자 : 뉴런의 수\n",
    "- 두번째 인자 : 네트워크 가중치(network weight) 초기화 방법\n",
    " - uniform : 균등분포 (uniform distribution)의 작은 난수들로 초기화 (0~0.05 사이)\n",
    " - normal : 가우시안 분포 (Gaussian distribution)로 생성된 작은 난수들로 초기화 \n",
    "- 세번째 인자 : 활성화 함수(activation function) 지정\n",
    " - relu : rectifier 활성화 함수\n",
    " - sigmoid : sigmoid 활성화 함수\n",
    " - tanh : tanh 활성화 함수\n",
    " \n",
    "마지막 레이어는 sigmoid 할성화 함수를 사용하는데, 이유는 결과가 0과 1사이로 나오는 것을 보장하며, 양성 클래스의 확률로 쉽게 매핑할 수 있기 때문이다. 또한 0.5 임계치(threshold)을 같은 클래스의 범주형 분류(hard classification)를 할 수 있다.\n",
    "\n",
    "- 첫번째 은닉층(hidden layer)는 12개 뉴런을 가지고, 8개 입력을 받아들인다.\n",
    "- 두번째 은닉층은 8개 뉴런을 가진다.\n",
    "- 마지막 레이어는 클래스를 예측하는 1개의 뉴런을 가진다."
   ]
  },
  {
   "cell_type": "code",
   "execution_count": 12,
   "metadata": {
    "collapsed": false
   },
   "outputs": [],
   "source": [
    "# create model\n",
    "model = Sequential()\n",
    "model.add(Dense(30, input_dim=8, init='uniform', activation='relu'))\n",
    "model.add(Dense(20, init='uniform', activation='relu'))\n",
    "model.add(Dense(1, init='uniform', activation='sigmoid'))"
   ]
  },
  {
   "cell_type": "code",
   "execution_count": 13,
   "metadata": {
    "collapsed": false
   },
   "outputs": [
    {
     "data": {
      "image/svg+xml": [
       "<svg height=\"296pt\" viewBox=\"0.00 0.00 300.56 296.00\" width=\"301pt\" xmlns=\"http://www.w3.org/2000/svg\" xmlns:xlink=\"http://www.w3.org/1999/xlink\">\n",
       "<g class=\"graph\" id=\"graph0\" transform=\"scale(1 1) rotate(0) translate(4 292)\">\n",
       "<title>G</title>\n",
       "<polygon fill=\"#ffffff\" points=\"-4,4 -4,-292 296.5557,-292 296.5557,4 -4,4\" stroke=\"transparent\"/>\n",
       "<!-- 4487219024 -->\n",
       "<g class=\"node\" id=\"node1\">\n",
       "<title>4487219024</title>\n",
       "<polygon fill=\"none\" points=\"0,-243.5 0,-287.5 292.5557,-287.5 292.5557,-243.5 0,-243.5\" stroke=\"#000000\"/>\n",
       "<text fill=\"#000000\" font-family=\"Times,serif\" font-size=\"14.00\" text-anchor=\"middle\" x=\"83.6191\" y=\"-261.3\">dense_input_3: InputLayer</text>\n",
       "<polyline fill=\"none\" points=\"167.2383,-243.5 167.2383,-287.5 \" stroke=\"#000000\"/>\n",
       "<text fill=\"#000000\" font-family=\"Times,serif\" font-size=\"14.00\" text-anchor=\"middle\" x=\"195.0728\" y=\"-272.3\">input:</text>\n",
       "<polyline fill=\"none\" points=\"167.2383,-265.5 222.9072,-265.5 \" stroke=\"#000000\"/>\n",
       "<text fill=\"#000000\" font-family=\"Times,serif\" font-size=\"14.00\" text-anchor=\"middle\" x=\"195.0728\" y=\"-250.3\">output:</text>\n",
       "<polyline fill=\"none\" points=\"222.9072,-243.5 222.9072,-287.5 \" stroke=\"#000000\"/>\n",
       "<text fill=\"#000000\" font-family=\"Times,serif\" font-size=\"14.00\" text-anchor=\"middle\" x=\"257.7314\" y=\"-272.3\">(None, 8)</text>\n",
       "<polyline fill=\"none\" points=\"222.9072,-265.5 292.5557,-265.5 \" stroke=\"#000000\"/>\n",
       "<text fill=\"#000000\" font-family=\"Times,serif\" font-size=\"14.00\" text-anchor=\"middle\" x=\"257.7314\" y=\"-250.3\">(None, 8)</text>\n",
       "</g>\n",
       "<!-- 4487218768 -->\n",
       "<g class=\"node\" id=\"node2\">\n",
       "<title>4487218768</title>\n",
       "<polygon fill=\"none\" points=\"27.9932,-162.5 27.9932,-206.5 264.5625,-206.5 264.5625,-162.5 27.9932,-162.5\" stroke=\"#000000\"/>\n",
       "<text fill=\"#000000\" font-family=\"Times,serif\" font-size=\"14.00\" text-anchor=\"middle\" x=\"80.1191\" y=\"-180.3\">dense_6: Dense</text>\n",
       "<polyline fill=\"none\" points=\"132.2451,-162.5 132.2451,-206.5 \" stroke=\"#000000\"/>\n",
       "<text fill=\"#000000\" font-family=\"Times,serif\" font-size=\"14.00\" text-anchor=\"middle\" x=\"160.0796\" y=\"-191.3\">input:</text>\n",
       "<polyline fill=\"none\" points=\"132.2451,-184.5 187.9141,-184.5 \" stroke=\"#000000\"/>\n",
       "<text fill=\"#000000\" font-family=\"Times,serif\" font-size=\"14.00\" text-anchor=\"middle\" x=\"160.0796\" y=\"-169.3\">output:</text>\n",
       "<polyline fill=\"none\" points=\"187.9141,-162.5 187.9141,-206.5 \" stroke=\"#000000\"/>\n",
       "<text fill=\"#000000\" font-family=\"Times,serif\" font-size=\"14.00\" text-anchor=\"middle\" x=\"226.2383\" y=\"-191.3\">(None, 8)</text>\n",
       "<polyline fill=\"none\" points=\"187.9141,-184.5 264.5625,-184.5 \" stroke=\"#000000\"/>\n",
       "<text fill=\"#000000\" font-family=\"Times,serif\" font-size=\"14.00\" text-anchor=\"middle\" x=\"226.2383\" y=\"-169.3\">(None, 30)</text>\n",
       "</g>\n",
       "<!-- 4487219024&#45;&gt;4487218768 -->\n",
       "<g class=\"edge\" id=\"edge1\">\n",
       "<title>4487219024-&gt;4487218768</title>\n",
       "<path d=\"M146.2778,-243.3664C146.2778,-235.1516 146.2778,-225.6579 146.2778,-216.7252\" fill=\"none\" stroke=\"#000000\"/>\n",
       "<polygon fill=\"#000000\" points=\"149.7779,-216.6068 146.2778,-206.6068 142.7779,-216.6069 149.7779,-216.6068\" stroke=\"#000000\"/>\n",
       "</g>\n",
       "<!-- 4487218896 -->\n",
       "<g class=\"node\" id=\"node3\">\n",
       "<title>4487218896</title>\n",
       "<polygon fill=\"none\" points=\"27.9932,-81.5 27.9932,-125.5 264.5625,-125.5 264.5625,-81.5 27.9932,-81.5\" stroke=\"#000000\"/>\n",
       "<text fill=\"#000000\" font-family=\"Times,serif\" font-size=\"14.00\" text-anchor=\"middle\" x=\"80.1191\" y=\"-99.3\">dense_7: Dense</text>\n",
       "<polyline fill=\"none\" points=\"132.2451,-81.5 132.2451,-125.5 \" stroke=\"#000000\"/>\n",
       "<text fill=\"#000000\" font-family=\"Times,serif\" font-size=\"14.00\" text-anchor=\"middle\" x=\"160.0796\" y=\"-110.3\">input:</text>\n",
       "<polyline fill=\"none\" points=\"132.2451,-103.5 187.9141,-103.5 \" stroke=\"#000000\"/>\n",
       "<text fill=\"#000000\" font-family=\"Times,serif\" font-size=\"14.00\" text-anchor=\"middle\" x=\"160.0796\" y=\"-88.3\">output:</text>\n",
       "<polyline fill=\"none\" points=\"187.9141,-81.5 187.9141,-125.5 \" stroke=\"#000000\"/>\n",
       "<text fill=\"#000000\" font-family=\"Times,serif\" font-size=\"14.00\" text-anchor=\"middle\" x=\"226.2383\" y=\"-110.3\">(None, 30)</text>\n",
       "<polyline fill=\"none\" points=\"187.9141,-103.5 264.5625,-103.5 \" stroke=\"#000000\"/>\n",
       "<text fill=\"#000000\" font-family=\"Times,serif\" font-size=\"14.00\" text-anchor=\"middle\" x=\"226.2383\" y=\"-88.3\">(None, 20)</text>\n",
       "</g>\n",
       "<!-- 4487218768&#45;&gt;4487218896 -->\n",
       "<g class=\"edge\" id=\"edge2\">\n",
       "<title>4487218768-&gt;4487218896</title>\n",
       "<path d=\"M146.2778,-162.3664C146.2778,-154.1516 146.2778,-144.6579 146.2778,-135.7252\" fill=\"none\" stroke=\"#000000\"/>\n",
       "<polygon fill=\"#000000\" points=\"149.7779,-135.6068 146.2778,-125.6068 142.7779,-135.6069 149.7779,-135.6068\" stroke=\"#000000\"/>\n",
       "</g>\n",
       "<!-- 4487247888 -->\n",
       "<g class=\"node\" id=\"node4\">\n",
       "<title>4487247888</title>\n",
       "<polygon fill=\"none\" points=\"27.9932,-.5 27.9932,-44.5 264.5625,-44.5 264.5625,-.5 27.9932,-.5\" stroke=\"#000000\"/>\n",
       "<text fill=\"#000000\" font-family=\"Times,serif\" font-size=\"14.00\" text-anchor=\"middle\" x=\"80.1191\" y=\"-18.3\">dense_8: Dense</text>\n",
       "<polyline fill=\"none\" points=\"132.2451,-.5 132.2451,-44.5 \" stroke=\"#000000\"/>\n",
       "<text fill=\"#000000\" font-family=\"Times,serif\" font-size=\"14.00\" text-anchor=\"middle\" x=\"160.0796\" y=\"-29.3\">input:</text>\n",
       "<polyline fill=\"none\" points=\"132.2451,-22.5 187.9141,-22.5 \" stroke=\"#000000\"/>\n",
       "<text fill=\"#000000\" font-family=\"Times,serif\" font-size=\"14.00\" text-anchor=\"middle\" x=\"160.0796\" y=\"-7.3\">output:</text>\n",
       "<polyline fill=\"none\" points=\"187.9141,-.5 187.9141,-44.5 \" stroke=\"#000000\"/>\n",
       "<text fill=\"#000000\" font-family=\"Times,serif\" font-size=\"14.00\" text-anchor=\"middle\" x=\"226.2383\" y=\"-29.3\">(None, 20)</text>\n",
       "<polyline fill=\"none\" points=\"187.9141,-22.5 264.5625,-22.5 \" stroke=\"#000000\"/>\n",
       "<text fill=\"#000000\" font-family=\"Times,serif\" font-size=\"14.00\" text-anchor=\"middle\" x=\"226.2383\" y=\"-7.3\">(None, 1)</text>\n",
       "</g>\n",
       "<!-- 4487218896&#45;&gt;4487247888 -->\n",
       "<g class=\"edge\" id=\"edge3\">\n",
       "<title>4487218896-&gt;4487247888</title>\n",
       "<path d=\"M146.2778,-81.3664C146.2778,-73.1516 146.2778,-63.6579 146.2778,-54.7252\" fill=\"none\" stroke=\"#000000\"/>\n",
       "<polygon fill=\"#000000\" points=\"149.7779,-54.6068 146.2778,-44.6068 142.7779,-54.6069 149.7779,-54.6068\" stroke=\"#000000\"/>\n",
       "</g>\n",
       "</g>\n",
       "</svg>"
      ],
      "text/plain": [
       "<IPython.core.display.SVG object>"
      ]
     },
     "execution_count": 13,
     "metadata": {},
     "output_type": "execute_result"
    }
   ],
   "source": [
    "from IPython.display import SVG\n",
    "from keras.utils.visualize_util import model_to_dot\n",
    "\n",
    "# brew install graphviz\n",
    "# pip uninstall -y pydot\n",
    "# pip install pydot-ng\n",
    "\n",
    "SVG(model_to_dot(model, show_shapes=True).create(prog='dot', format='svg'))"
   ]
  },
  {
   "cell_type": "markdown",
   "metadata": {},
   "source": [
    "![svg]({{ site.baseurl }}/posts_warehouse/2017-2-4-1.svg)"
   ]
  },
  {
   "cell_type": "markdown",
   "metadata": {},
   "source": [
    "---\n",
    "\n",
    "### 모델 엮기\n",
    "\n",
    "컴파일 시에 정의해야하는 것들\n",
    "- 가중치 세트를 평가하는 데 사용할 손실함수(loss function)\n",
    " - binary_crossentropy : 이진 분류를 위한 logarithmic loss\n",
    "- 네트워크의 다른 가중치를 검객하는 데 사용되는 최적화 알고리즘\n",
    " - adam : 효율적인 경사 하강법(gradient descent) 알고리즘\n",
    "- 학습과정에서 수집하기 싶은 측정 기준"
   ]
  },
  {
   "cell_type": "code",
   "execution_count": 14,
   "metadata": {
    "collapsed": false
   },
   "outputs": [],
   "source": [
    "# Compile model\n",
    "model.compile(loss='binary_crossentropy', optimizer='adam', metrics=['accuracy'])"
   ]
  },
  {
   "cell_type": "markdown",
   "metadata": {},
   "source": [
    "---\n",
    "\n",
    "### 모델 학습시키기\n",
    "\n",
    "- nb_epoch : 데이터셋에 대한 반복 횟수\n",
    "- batch_size : 네트워크에서 가중치 개갱신 전에 평가되는 인스턴스의 수"
   ]
  },
  {
   "cell_type": "code",
   "execution_count": 15,
   "metadata": {
    "collapsed": false
   },
   "outputs": [
    {
     "name": "stdout",
     "output_type": "stream",
     "text": [
      "Epoch 1/10\n",
      "768/768 [==============================] - 0s - loss: 0.6673 - acc: 0.6471     \n",
      "Epoch 2/10\n",
      "768/768 [==============================] - 0s - loss: 0.6540 - acc: 0.6341     \n",
      "Epoch 3/10\n",
      "768/768 [==============================] - 0s - loss: 0.6359 - acc: 0.6563     \n",
      "Epoch 4/10\n",
      "768/768 [==============================] - 0s - loss: 0.6241 - acc: 0.6576     \n",
      "Epoch 5/10\n",
      "768/768 [==============================] - 0s - loss: 0.6166 - acc: 0.6953     \n",
      "Epoch 6/10\n",
      "768/768 [==============================] - 0s - loss: 0.6097 - acc: 0.6836     \n",
      "Epoch 7/10\n",
      "768/768 [==============================] - 0s - loss: 0.6053 - acc: 0.6771     \n",
      "Epoch 8/10\n",
      "768/768 [==============================] - 0s - loss: 0.5978 - acc: 0.6875     \n",
      "Epoch 9/10\n",
      "768/768 [==============================] - 0s - loss: 0.6014 - acc: 0.6758     \n",
      "Epoch 10/10\n",
      "768/768 [==============================] - 0s - loss: 0.5832 - acc: 0.7070     \n"
     ]
    },
    {
     "data": {
      "text/plain": [
       "<keras.callbacks.History at 0x10be18090>"
      ]
     },
     "execution_count": 15,
     "metadata": {},
     "output_type": "execute_result"
    }
   ],
   "source": [
    "# Fit the model\n",
    "model.fit(X, Y, nb_epoch=10, batch_size=10) # nb_epoch 150"
   ]
  },
  {
   "cell_type": "markdown",
   "metadata": {},
   "source": [
    "---\n",
    "\n",
    "### 모델 사용하기"
   ]
  },
  {
   "cell_type": "code",
   "execution_count": 16,
   "metadata": {
    "collapsed": false
   },
   "outputs": [
    {
     "name": "stdout",
     "output_type": "stream",
     "text": [
      " 32/768 [>.............................] - ETA: 0sacc: 69.66%\n"
     ]
    }
   ],
   "source": [
    "# evaliuate\n",
    "scores = model.evaluate(X, Y)\n",
    "print(\"%s: %.2f%%\" %(model.metrics_names[1], scores[1]*100))"
   ]
  },
  {
   "cell_type": "markdown",
   "metadata": {
    "collapsed": true
   },
   "source": [
    "---\n",
    "\n",
    "### 같이 보기\n",
    "\n",
    "* [강좌 목차](https://tykimos.github.io/Keras/2017/01/27/Keras_Lecture_Plan/)\n",
    "* 이전 : [딥러닝 이야기/레이어 이야기](https://tykimos.github.io/Keras/2017/01/27/Layer_Talk/)\n",
    "* 다음 : [딥러닝 모델 이야기/컨볼루션 신경망 레이어 이야기](https://tykimos.github.io/Keras/2017/01/27/CNN_Layer_Talk/)"
   ]
  },
  {
   "cell_type": "code",
   "execution_count": null,
   "metadata": {
    "collapsed": true
   },
   "outputs": [],
   "source": []
  }
 ],
 "metadata": {
  "kernelspec": {
   "display_name": "Python 2",
   "language": "python",
   "name": "python2"
  },
  "language_info": {
   "codemirror_mode": {
    "name": "ipython",
    "version": 2
   },
   "file_extension": ".py",
   "mimetype": "text/x-python",
   "name": "python",
   "nbconvert_exporter": "python",
   "pygments_lexer": "ipython2",
   "version": "2.7.13"
  }
 },
 "nbformat": 4,
 "nbformat_minor": 0
}
