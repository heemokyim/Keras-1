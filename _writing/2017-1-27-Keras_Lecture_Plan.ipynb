{
 "cells": [
  {
   "cell_type": "raw",
   "metadata": {},
   "source": [
    "---\n",
    "layout: post\n",
    "title:  \"케라스 강좌 계획\"\n",
    "author: Taeyoung, Kim\n",
    "date:   2017-01-27 22:07:00\n",
    "categories: Keras\n",
    "comments: true\n",
    "---"
   ]
  },
  {
   "cell_type": "markdown",
   "metadata": {
    "collapsed": false
   },
   "source": [
    "케라스로 배워보는 딥러닝 강좌를 아래 순서대로 진행하고자 합니다.\n",
    "\n",
    "딥러닝 이야기\n",
    "- [케라스 이야기](https://tykimos.github.io/Keras/2017-1-27-Keras_Story.md)\n",
    "- 계층 이야기\n",
    "\n",
    "딥러닝 기본 실습\n",
    "- 다층 퍼셉트론 모델 만들어보기\n",
    "- 컨볼루션 신경망 모델 만들어보기\n",
    "- 오토인코더 모델 만들어보기\n",
    "- 순한 신경망 모델 만들어보기\n",
    "\n",
    "딥러닝 활용 실습\n",
    "- 회귀 해보기\n",
    "- 이진 분류 해보기\n",
    "- 다중 분류 해보기\n",
    "- 영상 인식 해보기\n",
    "- 감성 분석 해보기\n",
    "- 시계열 분석 해보기\n",
    "\n",
    "딥러닝 노하우 실습\n",
    "- 최적 모델 선택하는 법\n",
    "- 모델 검증하는 법\n",
    "- 경사하강법과 미니배치 \n",
    "- 모델 학습 과정 이해하는 법\n",
    "- 과적합 줄이는 법\n",
    "- 모델 성능 개선시키는 법\n",
    "\n",
    "딥러닝 수식 이해하기\n",
    "- 로지스틱 회귀 분석\n",
    "- 경사하강법\n",
    "- 역전파법\n",
    "\n",
    "딥러닝 예술 실습\n",
    "- 딥러닝으로 소설쓰기\n",
    "- 딥러닝으로 꿈꾸기\n",
    "- 딥러닝으로 그림그리기\n",
    "- 딥러닝으로 화풍바꾸기 \n",
    "\n",
    "딥러닝 실용 실습\n",
    "- 딥러닝으로 객체 검출 해보기\n",
    "- 딥러닝으로 객체 분할 해보기"
   ]
  },
  {
   "cell_type": "code",
   "execution_count": null,
   "metadata": {
    "collapsed": true
   },
   "outputs": [],
   "source": []
  }
 ],
 "metadata": {
  "kernelspec": {
   "display_name": "Python 2",
   "language": "python",
   "name": "python2"
  },
  "language_info": {
   "codemirror_mode": {
    "name": "ipython",
    "version": 2
   },
   "file_extension": ".py",
   "mimetype": "text/x-python",
   "name": "python",
   "nbconvert_exporter": "python",
   "pygments_lexer": "ipython2",
   "version": "2.7.10"
  }
 },
 "nbformat": 4,
 "nbformat_minor": 0
}
