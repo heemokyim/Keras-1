{
 "cells": [
  {
   "cell_type": "raw",
   "metadata": {},
   "source": [
    "---\n",
    "layout: post\n",
    "title:  \"순환 신경망 모델 만들어보기\"\n",
    "author: Taeyoung, Kim\n",
    "date:   2017-02-04 03:00:00\n",
    "categories: Keras\n",
    "comments: true\n",
    "---"
   ]
  },
  {
   "cell_type": "markdown",
   "metadata": {},
   "source": [
    "본 강좌에서는 간단한 순환 신경망 모델을 만들어봅니다. Example script showing how to use stateful RNNs\n",
    "to model long sequences efficiently. 늘 그렇듯이 다음과 같은 순서로 진행하겠습니다.\n",
    "\n",
    "1. 데이터셋 준비하기\n",
    "1. 모델 구성하기\n",
    "1. 모델 엮기\n",
    "1. 모델 학습시키기\n",
    "1. 모델 사용하기"
   ]
  },
  {
   "cell_type": "markdown",
   "metadata": {},
   "source": [
    "---\n",
    "\n",
    "### 데이터셋 준비하기\n",
    "\n",
    "Generates an absolute cosine time series with the amplitude exponentially decreasing\n",
    "Arguments:\n",
    "    amp: amplitude of the cosine function\n",
    "    period: period of the cosine function\n",
    "    x0: initial x of the time series\n",
    "    xn: final x of the time series\n",
    "    step: step of the time series discretization\n",
    "    k: exponential rate"
   ]
  },
  {
   "cell_type": "code",
   "execution_count": 5,
   "metadata": {
    "collapsed": false
   },
   "outputs": [
    {
     "name": "stdout",
     "output_type": "stream",
     "text": [
      "Generating Data\n",
      "Input shape: (50000, 1, 1)\n",
      "Output shape\n",
      "(50000, 1)\n"
     ]
    }
   ],
   "source": [
    "from __future__ import print_function\n",
    "import numpy as np\n",
    "import matplotlib.pyplot as plt\n",
    "%matplotlib inline  \n",
    "\n",
    "# since we are using stateful rnn tsteps can be set to 1\n",
    "tsteps = 1\n",
    "batch_size = 25\n",
    "epochs = 25\n",
    "# number of elements ahead that are used to make the prediction\n",
    "lahead = 1\n",
    "\n",
    "def gen_cosine_amp(amp=100, period=1000, x0=0, xn=50000, step=1, k=0.0001):\n",
    "    \"\"\"Generates an absolute cosine time series with the amplitude\n",
    "    exponentially decreasing\n",
    "    Arguments:\n",
    "        amp: amplitude of the cosine function\n",
    "        period: period of the cosine function\n",
    "        x0: initial x of the time series\n",
    "        xn: final x of the time series\n",
    "        step: step of the time series discretization\n",
    "        k: exponential rate\n",
    "    \"\"\"\n",
    "    cos = np.zeros(((xn - x0) * step, 1, 1))\n",
    "    for i in range(len(cos)):\n",
    "        idx = x0 + i * step\n",
    "        cos[i, 0, 0] = amp * np.cos(2 * np.pi * idx / period)\n",
    "        cos[i, 0, 0] = cos[i, 0, 0] * np.exp(-k * idx)\n",
    "    return cos\n",
    "\n",
    "print('Generating Data')\n",
    "cos = gen_cosine_amp()\n",
    "print('Input shape:', cos.shape)\n",
    "\n",
    "expected_output = np.zeros((len(cos), 1))\n",
    "for i in range(len(cos) - lahead):\n",
    "    expected_output[i, 0] = np.mean(cos[i + 1:i + lahead + 1])\n",
    "\n",
    "print('Output shape')\n",
    "print(expected_output.shape)"
   ]
  },
  {
   "cell_type": "markdown",
   "metadata": {},
   "source": [
    "---\n",
    "\n",
    "### 모델 구성하기\n"
   ]
  },
  {
   "cell_type": "code",
   "execution_count": 6,
   "metadata": {
    "collapsed": false
   },
   "outputs": [],
   "source": [
    "from keras.models import Sequential\n",
    "from keras.layers import Dense, LSTM\n",
    "\n",
    "# Create model\n",
    "\n",
    "model = Sequential()\n",
    "model.add(LSTM(50,\n",
    "               batch_input_shape=(batch_size, tsteps, 1),\n",
    "               return_sequences=True,\n",
    "               stateful=True))\n",
    "model.add(LSTM(50,\n",
    "               return_sequences=False,\n",
    "               stateful=True))\n",
    "model.add(Dense(1))"
   ]
  },
  {
   "cell_type": "code",
   "execution_count": 7,
   "metadata": {
    "collapsed": false
   },
   "outputs": [
    {
     "data": {
      "image/svg+xml": [
       "<svg height=\"296pt\" viewBox=\"0.00 0.00 290.47 296.00\" width=\"290pt\" xmlns=\"http://www.w3.org/2000/svg\" xmlns:xlink=\"http://www.w3.org/1999/xlink\">\n",
       "<g class=\"graph\" id=\"graph0\" transform=\"scale(1 1) rotate(0) translate(4 292)\">\n",
       "<title>G</title>\n",
       "<polygon fill=\"#ffffff\" points=\"-4,4 -4,-292 286.4727,-292 286.4727,4 -4,4\" stroke=\"transparent\"/>\n",
       "<!-- 4423780880 -->\n",
       "<g class=\"node\" id=\"node1\">\n",
       "<title>4423780880</title>\n",
       "<polygon fill=\"none\" points=\"0,-243.5 0,-287.5 282.4727,-287.5 282.4727,-243.5 0,-243.5\" stroke=\"#000000\"/>\n",
       "<text fill=\"#000000\" font-family=\"Times,serif\" font-size=\"14.00\" text-anchor=\"middle\" x=\"79.7397\" y=\"-261.3\">lstm_input_2: InputLayer</text>\n",
       "<polyline fill=\"none\" points=\"159.4795,-243.5 159.4795,-287.5 \" stroke=\"#000000\"/>\n",
       "<text fill=\"#000000\" font-family=\"Times,serif\" font-size=\"14.00\" text-anchor=\"middle\" x=\"187.314\" y=\"-272.3\">input:</text>\n",
       "<polyline fill=\"none\" points=\"159.4795,-265.5 215.1484,-265.5 \" stroke=\"#000000\"/>\n",
       "<text fill=\"#000000\" font-family=\"Times,serif\" font-size=\"14.00\" text-anchor=\"middle\" x=\"187.314\" y=\"-250.3\">output:</text>\n",
       "<polyline fill=\"none\" points=\"215.1484,-243.5 215.1484,-287.5 \" stroke=\"#000000\"/>\n",
       "<text fill=\"#000000\" font-family=\"Times,serif\" font-size=\"14.00\" text-anchor=\"middle\" x=\"248.8105\" y=\"-272.3\">(25, 1, 1)</text>\n",
       "<polyline fill=\"none\" points=\"215.1484,-265.5 282.4727,-265.5 \" stroke=\"#000000\"/>\n",
       "<text fill=\"#000000\" font-family=\"Times,serif\" font-size=\"14.00\" text-anchor=\"middle\" x=\"248.8105\" y=\"-250.3\">(25, 1, 1)</text>\n",
       "</g>\n",
       "<!-- 4499010000 -->\n",
       "<g class=\"node\" id=\"node2\">\n",
       "<title>4499010000</title>\n",
       "<polygon fill=\"none\" points=\"26.8174,-162.5 26.8174,-206.5 255.6553,-206.5 255.6553,-162.5 26.8174,-162.5\" stroke=\"#000000\"/>\n",
       "<text fill=\"#000000\" font-family=\"Times,serif\" font-size=\"14.00\" text-anchor=\"middle\" x=\"76.2397\" y=\"-180.3\">lstm_3: LSTM</text>\n",
       "<polyline fill=\"none\" points=\"125.6621,-162.5 125.6621,-206.5 \" stroke=\"#000000\"/>\n",
       "<text fill=\"#000000\" font-family=\"Times,serif\" font-size=\"14.00\" text-anchor=\"middle\" x=\"153.4966\" y=\"-191.3\">input:</text>\n",
       "<polyline fill=\"none\" points=\"125.6621,-184.5 181.3311,-184.5 \" stroke=\"#000000\"/>\n",
       "<text fill=\"#000000\" font-family=\"Times,serif\" font-size=\"14.00\" text-anchor=\"middle\" x=\"153.4966\" y=\"-169.3\">output:</text>\n",
       "<polyline fill=\"none\" points=\"181.3311,-162.5 181.3311,-206.5 \" stroke=\"#000000\"/>\n",
       "<text fill=\"#000000\" font-family=\"Times,serif\" font-size=\"14.00\" text-anchor=\"middle\" x=\"218.4932\" y=\"-191.3\">(25, 1, 1)</text>\n",
       "<polyline fill=\"none\" points=\"181.3311,-184.5 255.6553,-184.5 \" stroke=\"#000000\"/>\n",
       "<text fill=\"#000000\" font-family=\"Times,serif\" font-size=\"14.00\" text-anchor=\"middle\" x=\"218.4932\" y=\"-169.3\">(25, 1, 50)</text>\n",
       "</g>\n",
       "<!-- 4423780880&#45;&gt;4499010000 -->\n",
       "<g class=\"edge\" id=\"edge1\">\n",
       "<title>4423780880-&gt;4499010000</title>\n",
       "<path d=\"M141.2363,-243.3664C141.2363,-235.1516 141.2363,-225.6579 141.2363,-216.7252\" fill=\"none\" stroke=\"#000000\"/>\n",
       "<polygon fill=\"#000000\" points=\"144.7364,-216.6068 141.2363,-206.6068 137.7364,-216.6069 144.7364,-216.6068\" stroke=\"#000000\"/>\n",
       "</g>\n",
       "<!-- 4499009936 -->\n",
       "<g class=\"node\" id=\"node3\">\n",
       "<title>4499009936</title>\n",
       "<polygon fill=\"none\" points=\"26.8174,-81.5 26.8174,-125.5 255.6553,-125.5 255.6553,-81.5 26.8174,-81.5\" stroke=\"#000000\"/>\n",
       "<text fill=\"#000000\" font-family=\"Times,serif\" font-size=\"14.00\" text-anchor=\"middle\" x=\"76.2397\" y=\"-99.3\">lstm_4: LSTM</text>\n",
       "<polyline fill=\"none\" points=\"125.6621,-81.5 125.6621,-125.5 \" stroke=\"#000000\"/>\n",
       "<text fill=\"#000000\" font-family=\"Times,serif\" font-size=\"14.00\" text-anchor=\"middle\" x=\"153.4966\" y=\"-110.3\">input:</text>\n",
       "<polyline fill=\"none\" points=\"125.6621,-103.5 181.3311,-103.5 \" stroke=\"#000000\"/>\n",
       "<text fill=\"#000000\" font-family=\"Times,serif\" font-size=\"14.00\" text-anchor=\"middle\" x=\"153.4966\" y=\"-88.3\">output:</text>\n",
       "<polyline fill=\"none\" points=\"181.3311,-81.5 181.3311,-125.5 \" stroke=\"#000000\"/>\n",
       "<text fill=\"#000000\" font-family=\"Times,serif\" font-size=\"14.00\" text-anchor=\"middle\" x=\"218.4932\" y=\"-110.3\">(25, 1, 50)</text>\n",
       "<polyline fill=\"none\" points=\"181.3311,-103.5 255.6553,-103.5 \" stroke=\"#000000\"/>\n",
       "<text fill=\"#000000\" font-family=\"Times,serif\" font-size=\"14.00\" text-anchor=\"middle\" x=\"218.4932\" y=\"-88.3\">(25, 50)</text>\n",
       "</g>\n",
       "<!-- 4499010000&#45;&gt;4499009936 -->\n",
       "<g class=\"edge\" id=\"edge2\">\n",
       "<title>4499010000-&gt;4499009936</title>\n",
       "<path d=\"M141.2363,-162.3664C141.2363,-154.1516 141.2363,-144.6579 141.2363,-135.7252\" fill=\"none\" stroke=\"#000000\"/>\n",
       "<polygon fill=\"#000000\" points=\"144.7364,-135.6068 141.2363,-125.6068 137.7364,-135.6069 144.7364,-135.6068\" stroke=\"#000000\"/>\n",
       "</g>\n",
       "<!-- 4503503184 -->\n",
       "<g class=\"node\" id=\"node4\">\n",
       "<title>4503503184</title>\n",
       "<polygon fill=\"none\" points=\"31.1138,-.5 31.1138,-44.5 251.3589,-44.5 251.3589,-.5 31.1138,-.5\" stroke=\"#000000\"/>\n",
       "<text fill=\"#000000\" font-family=\"Times,serif\" font-size=\"14.00\" text-anchor=\"middle\" x=\"83.2397\" y=\"-18.3\">dense_2: Dense</text>\n",
       "<polyline fill=\"none\" points=\"135.3657,-.5 135.3657,-44.5 \" stroke=\"#000000\"/>\n",
       "<text fill=\"#000000\" font-family=\"Times,serif\" font-size=\"14.00\" text-anchor=\"middle\" x=\"163.2002\" y=\"-29.3\">input:</text>\n",
       "<polyline fill=\"none\" points=\"135.3657,-22.5 191.0347,-22.5 \" stroke=\"#000000\"/>\n",
       "<text fill=\"#000000\" font-family=\"Times,serif\" font-size=\"14.00\" text-anchor=\"middle\" x=\"163.2002\" y=\"-7.3\">output:</text>\n",
       "<polyline fill=\"none\" points=\"191.0347,-.5 191.0347,-44.5 \" stroke=\"#000000\"/>\n",
       "<text fill=\"#000000\" font-family=\"Times,serif\" font-size=\"14.00\" text-anchor=\"middle\" x=\"221.1968\" y=\"-29.3\">(25, 50)</text>\n",
       "<polyline fill=\"none\" points=\"191.0347,-22.5 251.3589,-22.5 \" stroke=\"#000000\"/>\n",
       "<text fill=\"#000000\" font-family=\"Times,serif\" font-size=\"14.00\" text-anchor=\"middle\" x=\"221.1968\" y=\"-7.3\">(25, 1)</text>\n",
       "</g>\n",
       "<!-- 4499009936&#45;&gt;4503503184 -->\n",
       "<g class=\"edge\" id=\"edge3\">\n",
       "<title>4499009936-&gt;4503503184</title>\n",
       "<path d=\"M141.2363,-81.3664C141.2363,-73.1516 141.2363,-63.6579 141.2363,-54.7252\" fill=\"none\" stroke=\"#000000\"/>\n",
       "<polygon fill=\"#000000\" points=\"144.7364,-54.6068 141.2363,-44.6068 137.7364,-54.6069 144.7364,-54.6068\" stroke=\"#000000\"/>\n",
       "</g>\n",
       "</g>\n",
       "</svg>"
      ],
      "text/plain": [
       "<IPython.core.display.SVG object>"
      ]
     },
     "execution_count": 7,
     "metadata": {},
     "output_type": "execute_result"
    }
   ],
   "source": [
    "from IPython.display import SVG\n",
    "from keras.utils.visualize_util import model_to_dot\n",
    "\n",
    "# brew install graphviz\n",
    "# pip uninstall -y pydot\n",
    "# pip install pydot-ng\n",
    "\n",
    "SVG(model_to_dot(model, show_shapes=True).create(prog='dot', format='svg'))"
   ]
  },
  {
   "cell_type": "markdown",
   "metadata": {},
   "source": [
    "![svg]({{ site.baseurl }}/posts_warehouse/2017-2-4-CNN_Getting_Started-2.svg)"
   ]
  },
  {
   "cell_type": "markdown",
   "metadata": {},
   "source": [
    "### 모델 엮기\n",
    "\n",
    "컴파일 시에 정의해야하는 것들\n",
    "- 가중치 세트를 평가하는 데 사용할 손실함수(loss function)\n",
    " - binary_crossentropy : 이진 분류를 위한 logarithmic loss\n",
    "- 네트워크의 다른 가중치를 검객하는 데 사용되는 최적화 알고리즘\n",
    " - adam : 효율적인 경사 하강법(gradient descent) 알고리즘\n",
    "- 학습과정에서 수집하기 싶은 측정 기준"
   ]
  },
  {
   "cell_type": "code",
   "execution_count": 8,
   "metadata": {
    "collapsed": false
   },
   "outputs": [],
   "source": [
    "# Compile model\n",
    "model.compile(loss='mse', optimizer='rmsprop')"
   ]
  },
  {
   "cell_type": "markdown",
   "metadata": {},
   "source": [
    "### 모델 학습시키기\n",
    "\n",
    "- nb_epoch : 데이터셋에 대한 반복 횟수\n",
    "- batch_size : 네트워크에서 가중치 개갱신 전에 평가되는 인스턴스의 수"
   ]
  },
  {
   "cell_type": "code",
   "execution_count": 9,
   "metadata": {
    "collapsed": false
   },
   "outputs": [
    {
     "name": "stdout",
     "output_type": "stream",
     "text": [
      "Training\n",
      "Epoch 0 / 25\n",
      "Epoch 1/1\n",
      "50000/50000 [==============================] - 4s - loss: 333.8799     \n",
      "Epoch 1 / 25\n",
      "Epoch 1/1\n",
      "50000/50000 [==============================] - 4s - loss: 145.0289     \n",
      "Epoch 2 / 25\n",
      "Epoch 1/1\n",
      "50000/50000 [==============================] - 4s - loss: 79.0348     \n",
      "Epoch 3 / 25\n",
      "Epoch 1/1\n",
      "50000/50000 [==============================] - 4s - loss: 47.4840     \n",
      "Epoch 4 / 25\n",
      "Epoch 1/1\n",
      "50000/50000 [==============================] - 4s - loss: 29.9804     \n",
      "Epoch 5 / 25\n",
      "Epoch 1/1\n",
      "50000/50000 [==============================] - 4s - loss: 22.1359     \n",
      "Epoch 6 / 25\n",
      "Epoch 1/1\n",
      "50000/50000 [==============================] - 4s - loss: 16.1997     \n",
      "Epoch 7 / 25\n",
      "Epoch 1/1\n",
      "50000/50000 [==============================] - 4s - loss: 13.6479     \n",
      "Epoch 8 / 25\n",
      "Epoch 1/1\n",
      "50000/50000 [==============================] - 5s - loss: 13.1759     \n",
      "Epoch 9 / 25\n",
      "Epoch 1/1\n",
      "50000/50000 [==============================] - 5s - loss: 11.5702     \n",
      "Epoch 10 / 25\n",
      "Epoch 1/1\n",
      "50000/50000 [==============================] - 5s - loss: 8.0647     \n",
      "Epoch 11 / 25\n",
      "Epoch 1/1\n",
      "50000/50000 [==============================] - 5s - loss: 7.7706     \n",
      "Epoch 12 / 25\n",
      "Epoch 1/1\n",
      "50000/50000 [==============================] - 5s - loss: 7.0166     \n",
      "Epoch 13 / 25\n",
      "Epoch 1/1\n",
      "50000/50000 [==============================] - 5s - loss: 8.1204     \n",
      "Epoch 14 / 25\n",
      "Epoch 1/1\n",
      "50000/50000 [==============================] - 5s - loss: 8.2418     \n",
      "Epoch 15 / 25\n",
      "Epoch 1/1\n",
      "50000/50000 [==============================] - 5s - loss: 7.5997     \n",
      "Epoch 16 / 25\n",
      "Epoch 1/1\n",
      "50000/50000 [==============================] - 5s - loss: 10.3045     \n",
      "Epoch 17 / 25\n",
      "Epoch 1/1\n",
      "50000/50000 [==============================] - 5s - loss: 13.4392     \n",
      "Epoch 18 / 25\n",
      "Epoch 1/1\n",
      "50000/50000 [==============================] - 5s - loss: 8.3691     \n",
      "Epoch 19 / 25\n",
      "Epoch 1/1\n",
      "50000/50000 [==============================] - 5s - loss: 7.3953     \n",
      "Epoch 20 / 25\n",
      "Epoch 1/1\n",
      "50000/50000 [==============================] - 5s - loss: 6.4549     \n",
      "Epoch 21 / 25\n",
      "Epoch 1/1\n",
      "50000/50000 [==============================] - 5s - loss: 7.7071     \n",
      "Epoch 22 / 25\n",
      "Epoch 1/1\n",
      "50000/50000 [==============================] - 6s - loss: 4.9991     \n",
      "Epoch 23 / 25\n",
      "Epoch 1/1\n",
      "50000/50000 [==============================] - 6s - loss: 4.7767     \n",
      "Epoch 24 / 25\n",
      "Epoch 1/1\n",
      "50000/50000 [==============================] - 6s - loss: 9.6175     \n"
     ]
    }
   ],
   "source": [
    "# Fit the model\n",
    "\n",
    "print('Training')\n",
    "for i in range(epochs):\n",
    "    print('Epoch', i, '/', epochs)\n",
    "    model.fit(cos,\n",
    "              expected_output,\n",
    "              batch_size=batch_size,\n",
    "              verbose=1,\n",
    "              nb_epoch=1,\n",
    "              shuffle=False)\n",
    "    model.reset_states()"
   ]
  },
  {
   "cell_type": "markdown",
   "metadata": {},
   "source": [
    "---\n",
    "\n",
    "### 모델 사용하기"
   ]
  },
  {
   "cell_type": "code",
   "execution_count": 10,
   "metadata": {
    "collapsed": false
   },
   "outputs": [
    {
     "name": "stdout",
     "output_type": "stream",
     "text": [
      "Predicting\n",
      "Plotting Results\n"
     ]
    },
    {
     "data": {
      "image/png": "[encoded data removed]",
      "text/plain": [
       "<matplotlib.figure.Figure at 0x1149a8290>"
      ]
     },
     "metadata": {},
     "output_type": "display_data"
    }
   ],
   "source": [
    "# evaliuate\n",
    "\n",
    "print('Predicting')\n",
    "predicted_output = model.predict(cos, batch_size=batch_size)\n",
    "\n",
    "print('Plotting Results')\n",
    "plt.subplot(2, 1, 1)\n",
    "plt.plot(expected_output)\n",
    "plt.title('Expected')\n",
    "plt.subplot(2, 1, 2)\n",
    "plt.plot(predicted_output)\n",
    "plt.title('Predicted')\n",
    "plt.show()"
   ]
  },
  {
   "cell_type": "markdown",
   "metadata": {
    "collapsed": true
   },
   "source": [
    "---\n",
    "\n",
    "### 같이 보기\n",
    "\n",
    "* [강좌 목차](https://tykimos.github.io/Keras/2017/01/27/Keras_Lecture_Plan/)\n",
    "* 이전 : [딥러닝 기본 실습/다층 퍼셉트론 모델 만들어보기](https://tykimos.github.io/Keras/2017/02/04/MLP_Getting_Started/)\n",
    "* 다음 : [딥러닝 기본 실습/오토인코더 모델 만들어보기](https://tykimos.github.io/Keras/2017/02/04/AutoEncoder_Getting_Started/)"
   ]
  },
  {
   "cell_type": "code",
   "execution_count": null,
   "metadata": {
    "collapsed": true
   },
   "outputs": [],
   "source": []
  }
 ],
 "metadata": {
  "kernelspec": {
   "display_name": "Python 2",
   "language": "python",
   "name": "python2"
  },
  "language_info": {
   "codemirror_mode": {
    "name": "ipython",
    "version": 2
   },
   "file_extension": ".py",
   "mimetype": "text/x-python",
   "name": "python",
   "nbconvert_exporter": "python",
   "pygments_lexer": "ipython2",
   "version": "2.7.10"
  }
 },
 "nbformat": 4,
 "nbformat_minor": 0
}
