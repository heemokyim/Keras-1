{
 "cells": [
  {
   "cell_type": "code",
   "execution_count": null,
   "metadata": {
    "collapsed": true
   },
   "outputs": [],
   "source": [
    "param_window_size = 24\n",
    "param_seq_length = 287\n",
    "param_num_epoch = 100\n",
    "param_lstm_units = 128\n",
    "param_lstm_stack = 1\n",
    "\n",
    "num_sample = param_seq_length - param_window_size"
   ]
  },
  {
   "cell_type": "code",
   "execution_count": null,
   "metadata": {
    "collapsed": false
   },
   "outputs": [],
   "source": [
    "import numpy as np\n",
    "import os\n",
    "import pandas\n",
    "import theano\n",
    "\n",
    "from keras.models import Sequential\n",
    "from keras.layers import Dense, LSTM, Dropout\n",
    "from sklearn.preprocessing import MinMaxScaler\n",
    "\n",
    "import matplotlib.pyplot as plt\n",
    "import matplotlib.animation as animation\n",
    "\n",
    "%matplotlib inline"
   ]
  },
  {
   "cell_type": "code",
   "execution_count": null,
   "metadata": {
    "collapsed": false
   },
   "outputs": [],
   "source": [
    "dataset_file_path = './Data_RNN/201601.txt'\n",
    "df = pandas.read_csv(dataset_file_path, delim_whitespace=True, header=None, usecols=[6])\n",
    "\n",
    "# dataframe to dataset\n",
    "dataset = df.values\n",
    "dataset = dataset.astype('float32')\n",
    "\n",
    "plt.plot(dataset)\n",
    "plt.show()"
   ]
  },
  {
   "cell_type": "code",
   "execution_count": null,
   "metadata": {
    "collapsed": false
   },
   "outputs": [],
   "source": [
    "\n",
    "\n",
    "dataset = np.log10(dataset) # stationary signal\n",
    "#dataset = np.diff(dataset, n=1, axis=0) # detrended signa\n",
    "\n",
    "# dataset = np.cos(np.arange(288)*(20*np.pi/1000))[:,None]\n",
    "\n",
    "plt.plot(dataset)   \n",
    "plt.show()"
   ]
  },
  {
   "cell_type": "code",
   "execution_count": null,
   "metadata": {
    "collapsed": false
   },
   "outputs": [],
   "source": [
    "dataset = np.diff(dataset, n=1, axis=0) # detrended signa\n",
    "\n",
    "# dataset = np.cos(np.arange(288)*(20*np.pi/1000))[:,None]\n",
    "\n",
    "plt.plot(dataset)   \n",
    "plt.show()"
   ]
  },
  {
   "cell_type": "code",
   "execution_count": null,
   "metadata": {
    "collapsed": false
   },
   "outputs": [],
   "source": [
    "dataset.shape"
   ]
  },
  {
   "cell_type": "code",
   "execution_count": null,
   "metadata": {
    "collapsed": true
   },
   "outputs": [],
   "source": [
    "# normalize\n",
    "#scaler = MinMaxScaler(feature_range=(0,1))\n",
    "#dataset = scaler.fit_transform(dataset)"
   ]
  },
  {
   "cell_type": "code",
   "execution_count": null,
   "metadata": {
    "collapsed": false
   },
   "outputs": [],
   "source": [
    "\n",
    "\n",
    "plt.plot(dataset)   \n",
    "plt.show()"
   ]
  },
  {
   "cell_type": "code",
   "execution_count": null,
   "metadata": {
    "collapsed": false
   },
   "outputs": [],
   "source": [
    "\n",
    "\n",
    "\n",
    "dataset.shape"
   ]
  },
  {
   "cell_type": "code",
   "execution_count": null,
   "metadata": {
    "collapsed": false
   },
   "outputs": [],
   "source": [
    "# convert an array of values into a dataset matrix\n",
    "def create_dataset(dataset, look_back=1):\n",
    "    dataX, dataY = [], []\n",
    "    for i in range(len(dataset)-look_back):\n",
    "        dataX.append(dataset[i:(i+look_back), 0])\n",
    "        dataY.append(dataset[i + look_back, 0])\n",
    "    return np.array(dataX), np.array(dataY)"
   ]
  },
  {
   "cell_type": "code",
   "execution_count": null,
   "metadata": {
    "collapsed": false
   },
   "outputs": [],
   "source": [
    "trainX, trainY = create_dataset(dataset, param_window_size)\n",
    "trainX = np.reshape(trainX, (trainX.shape[0], trainX.shape[1], 1))\n",
    "\n",
    "testX, testY = create_dataset(dataset, param_window_size)\n",
    "testX = np.reshape(testX, (testX.shape[0], testX.shape[1], 1))"
   ]
  },
  {
   "cell_type": "code",
   "execution_count": null,
   "metadata": {
    "collapsed": false
   },
   "outputs": [],
   "source": [
    "trainX.shape"
   ]
  },
  {
   "cell_type": "code",
   "execution_count": null,
   "metadata": {
    "collapsed": false
   },
   "outputs": [],
   "source": [
    "%%time\n",
    "\n",
    "theano.config.compute_test_value = \"ignore\"\n",
    "\n",
    "model = Sequential()\n",
    "for i in range(param_lstm_stack):\n",
    "    model.add(LSTM(param_lstm_units, batch_input_shape=(1, param_window_size, 1), stateful=True, return_sequences=True))\n",
    "    model.add(Dropout(0.3))\n",
    "model.add(LSTM(param_lstm_units, batch_input_shape=(1, param_window_size, 1), stateful=True))\n",
    "model.add(Dropout(0.3))\n",
    "model.add(Dense(1))\n",
    "\n",
    "model.compile(loss='mean_squared_error', optimizer='adam')"
   ]
  },
  {
   "cell_type": "code",
   "execution_count": null,
   "metadata": {
    "collapsed": false
   },
   "outputs": [],
   "source": [
    "for epoch_idx in range(param_num_epoch):\n",
    "    print ('epochs : ' + str(epoch_idx) )\n",
    "    model.fit(trainX, trainY, epochs=1, batch_size=1, verbose=2, shuffle=False)\n",
    "    model.reset_states()"
   ]
  },
  {
   "cell_type": "code",
   "execution_count": null,
   "metadata": {
    "collapsed": false
   },
   "outputs": [],
   "source": [
    "testScore = model.evaluate(testX, testY, batch_size=1, verbose=0)\n",
    "print('Test Score: ', testScore)\n",
    "\n",
    "model.reset_states()"
   ]
  },
  {
   "cell_type": "code",
   "execution_count": null,
   "metadata": {
    "collapsed": false
   },
   "outputs": [],
   "source": [
    "testX[1][:]\n",
    "testY[0]\n",
    "\n",
    "testPredict = [np.vstack([testX[0][:]])]"
   ]
  },
  {
   "cell_type": "code",
   "execution_count": null,
   "metadata": {
    "collapsed": false
   },
   "outputs": [],
   "source": [
    "testPredict[-1]"
   ]
  },
  {
   "cell_type": "code",
   "execution_count": null,
   "metadata": {
    "collapsed": true
   },
   "outputs": [],
   "source": [
    "a = np.vstack([testPredict[-1][1:],0.66])"
   ]
  },
  {
   "cell_type": "code",
   "execution_count": null,
   "metadata": {
    "collapsed": false
   },
   "outputs": [],
   "source": [
    "testPredict[-1][1:]"
   ]
  },
  {
   "cell_type": "code",
   "execution_count": null,
   "metadata": {
    "collapsed": false
   },
   "outputs": [],
   "source": [
    "test_seq_size = param_seq_length - param_window_size\n",
    "curr_idx = 30\n",
    "\n",
    "predictions = np.zeros((test_seq_size, 1))\n",
    "testPredict = [np.vstack([testX[0][:]])]\n",
    "\n",
    "look_hist = curr_idx\n",
    "look_ahead = test_seq_size - curr_idx\n",
    "\n",
    "for i in range(look_hist):\n",
    "    prediction = model.predict(np.array([testPredict[-1]]), batch_size=1)\n",
    "    predictions[i] = testY[i]\n",
    "    testPredict.append(np.vstack([testX[i+1][:]]))\n",
    "\n",
    "for i in range(look_ahead):    \n",
    "    prediction = model.predict(np.array([testPredict[-1]]), batch_size=1)\n",
    "    predictions[i + look_hist] = prediction\n",
    "    testPredict.append(np.vstack([testPredict[-1][1:],prediction]))\n",
    "\n",
    "model.reset_states()"
   ]
  },
  {
   "cell_type": "code",
   "execution_count": null,
   "metadata": {
    "collapsed": false
   },
   "outputs": [],
   "source": [
    "view = np.cumsum(predictions[::-1])[::1] \n",
    "view = np.reshape(view, (287,1))\n",
    "\n",
    "plt.plot(view)\n",
    "plt.show()"
   ]
  },
  {
   "cell_type": "code",
   "execution_count": null,
   "metadata": {
    "collapsed": false
   },
   "outputs": [],
   "source": [
    "# First set up the figure, the axis, and the plot element we want to animate\n",
    "fig = plt.figure()\n",
    "ax = plt.axes(xlim=(0, 287), ylim=(0, 1))\n",
    "\n",
    "plotcols = [\"blue\",\"red\"]\n",
    "\n",
    "lines = []\n",
    "\n",
    "test_seq_size = param_seq_length - param_window_size\n",
    "    \n",
    "for i in range(2):\n",
    "    lobj = ax.plot([],[],lw=1,color=plotcols[i])[0]\n",
    "    lines.append(lobj)\n",
    "\n",
    "def init():\n",
    "    for line in lines:\n",
    "        line.set_data([],[])\n",
    "    return lines\n",
    "\n",
    "def animate(curr_idx):\n",
    "\n",
    "    predictions = np.zeros((test_seq_size, 1))\n",
    "    testPredict = [np.vstack([testX[0][:]])]\n",
    "\n",
    "    look_hist = curr_idx\n",
    "    look_ahead = test_seq_size - curr_idx\n",
    "\n",
    "    for i in range(look_hist):\n",
    "        prediction = model.predict(np.array([testPredict[-1]]), batch_size=1)\n",
    "        predictions[i] = testY[i]\n",
    "        testPredict.append(np.vstack([testX[i+1][:]]))\n",
    "        \n",
    "    for i in range(look_ahead):    \n",
    "        prediction = model.predict(np.array([testPredict[-1]]), batch_size=1)\n",
    "        predictions[i + look_hist] = prediction\n",
    "        testPredict.append(np.vstack([testPredict[-1][1:],prediction]))\n",
    "    \n",
    "    model.reset_states()\n",
    "    \n",
    "    x = np.linspace(0, test_seq_size-1, test_seq_size)\n",
    "    y = [testY, predictions]\n",
    "    \n",
    "    #for index in range(0,1):\n",
    "    for i, line in enumerate(lines):\n",
    "        line.set_data(x, y[i]) # set data for each line separately. \n",
    "\n",
    "    return lines\n",
    "\n",
    "anim = animation.FuncAnimation(fig, animate, init_func=init, frames=test_seq_size, interval=20, blit=True)\n",
    "\n",
    "result_filename = 'w' + str(param_window_size) + '_' + 'u' + str(param_lstm_units) + '_' + 's' + str(param_lstm_stack) + '_' + 'e' + str(param_num_epoch)\n",
    "\n",
    "anim.save( result_filename + '.gif', writer='imagemagick', fps=30, dpi=100)\n",
    "\n",
    "plt.show()"
   ]
  },
  {
   "cell_type": "code",
   "execution_count": null,
   "metadata": {
    "collapsed": true
   },
   "outputs": [],
   "source": []
  }
 ],
 "metadata": {
  "kernelspec": {
   "display_name": "Python 2",
   "language": "python",
   "name": "python2"
  },
  "language_info": {
   "codemirror_mode": {
    "name": "ipython",
    "version": 2
   },
   "file_extension": ".py",
   "mimetype": "text/x-python",
   "name": "python",
   "nbconvert_exporter": "python",
   "pygments_lexer": "ipython2",
   "version": "2.7.10"
  }
 },
 "nbformat": 4,
 "nbformat_minor": 0
}
