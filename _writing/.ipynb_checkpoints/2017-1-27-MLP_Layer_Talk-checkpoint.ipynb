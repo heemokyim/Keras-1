{
 "cells": [
  {
   "cell_type": "raw",
   "metadata": {},
   "source": [
    "---\n",
    "layout: post\n",
    "title:  \"다층 퍼셉트론 레이어 이야기\"\n",
    "author: Taeyoung, Kim\n",
    "date:   2017-01-27 00:09:00\n",
    "categories: Keras\n",
    "comments: true\n",
    "---"
   ]
  },
  {
   "cell_type": "markdown",
   "metadata": {},
   "source": [
    "이번에는 케라스에서 사용되는 레이어(layer, 층) 개념에 대해서 알아봅니다. 케라스의 핵심 데이터 구조는 모델이고, 이 모델을 구성하는 것이 레이어입니다. 간단히 뉴런에 대해서 알아본 다음, 주요 레이어에 대해 기본 개념, 역할 등에 대해서 살펴보고, 레이어를 어떻게 쌓아서 모델을 만들 수 있는 지 알아봅니다. 기본적인 레이어 개념을 익히면 레고 쌓는 것 처럼 쉽게 구성할 수 있는데, 실제 레고로도 쌓아보겠습니다. 본 강좌에서는 다층 퍼셉트론 모델에서 사용되는 Dense 레이어에 대해서만 알아보겠습니다."
   ]
  },
  {
   "cell_type": "markdown",
   "metadata": {},
   "source": [
    "---\n",
    "\n",
    "### 인간의 신경계를 모사한 뉴런\n",
    "\n",
    "신경망에서 사용되는 뉴런은 인간의 신경계를 모사한 것입니다. 아래 왼쪽 그림이 인간의 뉴런이고, 오른쪽 그림이 이를 모델링한 것입니다.\n",
    "\n",
    "뇌의 기본적인 계산 단위는 뉴런입니다. 약 860 억 개의 뉴런이 인간의 신경계에서 발견 될 수 있으며 약 10 ^ 14 - 10 ^ 15 개의 시냅스와 연결되어 있습니다. 아래 다이어그램은 생물학적 뉴런 (왼쪽)과 일반적인 수학적 모델 (오른쪽)의 만화 그리기를 보여줍니다. 각 뉴런은 수상 돌기로부터 입력 신호를 수신하여 (단일) 축색 돌기를 따라 출력 신호를 생성합니다. 축색 돌기는 결국 밖으로 분기하고 다른 뉴런의 수상 돌기에 시냅스를 통해 연결됩니다. 뉴런의 계산 모델에서, 축삭을 따라 이동하는 신호 (예를 들어, x0x0)는 그 시냅스에서의 시냅스 강도 (예를 들어, w0w0)에 기초하여 다른 뉴런의 수상 돌기와 곱셈 적으로 상호 작용한다 (w0x0w0x0). 생각은 시냅스 강도 (가중치 ww)가 학습 가능하고 영향력 (및 그 방향 : 자극성 (양성 무게) 또는 억제 성 (음성 무게))을 다른 신경절에 가하는 힘을 제어한다는 것입니다. 기본 모델에서, 수상 돌기는 세포 몸체에 신호를 전달하여 모두가 합쳐집니다. 최종 합계가 특정 임계 값을 초과하면 뉴런이 발사되어 축색 돌기에 스파이크가 발생합니다. 계산 모델에서 스파이크의 정확한 타이밍은 중요하지 않으며 소성의 빈도 만 정보를 전달한다고 가정합니다. 이 속도 코드 해석에 기초하여 우리는 축삭을 따라 스파이크의 빈도를 나타내는 활성화 함수 ff로 뉴런의 발사 속도를 모델링합니다. 역사적으로, 활성화 함수의 일반적인 선택은 Sigmoid 함수 σσ입니다.이 함수는 실수 값 입력 (합계 후의 신호 강도)을 취해 0과 1 사이의 범위로 채 웁니다. 나중에이 활성화 함수에 대한 자세한 내용을 보게 될 것입니다 이 섹션\n",
    "\n",
    "![neuron](http://tykimos.github.com/Keras/warehouse/2017-1-27_MLP_Layer_Talk_neuron.png)\n",
    "(출처: http://cs231n.github.io/neural-networks-1/)\n"
   ]
  },
  {
   "cell_type": "markdown",
   "metadata": {},
   "source": [
    "---\n",
    "\n",
    "### 입출력을 모두 연결해주는 Dense 레이어\n",
    "\n",
    "Dense 레이어는 입력과 출력을 모두 연결해줍니다. 예를 들어 입력 뉴런이 4개, 출력 뉴런이 8개있다면 총 연결선은 32개(4*8=32) 입니다. 이를 그림으로 표시하면 다음과 같습니다. \n",
    "\n",
    "각 연결선에는 가중치(weight)를 포함하고 있는데, 이 가중치가 나타내는 의미는 연결강도라고 보시면 됩니다. 현재 연결선이 32개이므로 가중치도 32개입니다.\n",
    "\n",
    "> 가중치가 높을수록 해당 입력 뉴런이 출력 뉴런에 미치는 영향이 크고, 낮을수록 미치는 영향이 적다.\n",
    "\n",
    "예를 들어 성별을 판단하는 문제있어서, 출력 뉴런의 값이 성별을 의미하고, 입력 뉴런에 머리카락길이, 키, 혈핵형 등이 있다고 가정했을 때, 머리카락길이의 가중치가 가장 높고, 키의 가중치가 중간이고, 혈핵형의 가중치가 가장 낮을 겁니다. 딥러닝 학습과정에서 이러한 가중치들이 조정됩니다.\n",
    "\n",
    "이렇게 입력 뉴런과 출력 뉴런을 모두 연결한다고 해서 전결합층이라고 불리고, 케라스에서는 Dense라는 클래스로 구현이 되어 있습니다. 아래는 Dense 클래스 사용 예제입니다.\n",
    "\n",
    "> Dense(8, input_dim=4, init='uniform', activation='relu'))\n",
    "\n",
    "주요 인자는 다음과 같습니다.\n",
    "* 첫번째 인자 : 출력 뉴런의 수\n",
    "* input_dim : 입력 뉴런의 수\n",
    "* init : 가중치 초기화 방법 설정\n",
    "    * uniform : 균일 분포\n",
    "    * normal : 가우시안 분포\n",
    "* activation : 활성화 함수 설정\n",
    "    * linear : 디폴트 값, 입력뉴런과 가중치로 계산된 결과값이 그대로 출력으로 나옴\n",
    "    * relu : rectifier 함수, 은익층에 주로 쓰임\n",
    "    * sigmoid : 시그모이드 함수, 이진 분류 문제에서 출력층에 주로 쓰임\n",
    "    * softmax : 소프트맥스 함수, 다중 클래스 분류 문제에서 출력층에 주로 쓰임\n",
    "\n",
    "Dense 레이어는 입력 뉴런 수에 상관없이 출력 뉴런 수를 자유롭게 설정할 수 있기 때문에 출력층으로 많이 사용됩니다. 이진 분류문제에서는 0과 1을 나타내는 출력 뉴런이 하나만 있으면 되기 때문에 아래 코드처럼 출력 뉴런이 1개이고, 입력 뉴런과 가중치를 계산한 값을 0에서 1사이로 표현할 수 있는 활성화 함수인 sigmoid을 사용합니다.\n",
    "\n",
    "> Dense(1, input_dim=3, activation='sigmoid'))\n",
    "\n",
    "다중클래스 분류문제에서는 클래스 수만큼 출력 뉴런이 필요합니다. 만약 세가지 종류로 분류한다면, 아래 코드처럼 출력 뉴런이 3개이고, 입력 뉴련과 가중치를 계산한 값을 각 클래스의 확률 개념으로 표현할 수 있는 활성화 함수인 sofemax를 사용합니다.\n",
    "\n",
    "> Dense(3, input_dim=6, activation='softmax'))\n",
    "\n",
    "Dense 레이어는 보통 출력층 이전의 은닉층으로도 많이 쓰이고, 영상이 아닌 수치자료 입력 시에는 입력층으로도 많이 쓰입니다. 이 때 활성화 함수로 'relu'가 주로 사용됩니다. 'relu'는 학습과정에서 역전파 시에 좋은 성능이 나는 것으로 알려져 있습니다.\n",
    "\n",
    "> Dense(6, input_dim=4, activation='relu'))\n",
    "\n",
    "또한 입력층이 아닐 때에는 이전층의 출력 뉴런 수를 알 수 있기 때문에 input_dim을 지정하지 않아도 됩니다. 아래 코드를 보면, 입력층에만 input_dim을 정의하였고, 이후 층에서는 input_dim을 지정하지 않았습니다.\n",
    "\n",
    "    model.add(Dense(8, input_dim=4, init='uniform', activation='relu'))\n",
    "    model.add(Dense(6, init='uniform', activation='relu'))\n",
    "    model.add(Dense(1, init='uniform', activation='sigmoid'))"
   ]
  },
  {
   "cell_type": "code",
   "execution_count": 1,
   "metadata": {
    "collapsed": false
   },
   "outputs": [
    {
     "name": "stderr",
     "output_type": "stream",
     "text": [
      "Using Theano backend.\n"
     ]
    }
   ],
   "source": []
  },
  {
   "cell_type": "code",
   "execution_count": 2,
   "metadata": {
    "collapsed": false
   },
   "outputs": [],
   "source": [
    "from keras.models import Sequential\n",
    "from keras.layers import Dense\n",
    "\n",
    "model = Sequential()\n",
    "\n",
    "model.add(Dense(8, input_dim=4, init='uniform', activation='relu'))\n",
    "model.add(Dense(6, init='uniform', activation='relu'))\n",
    "model.add(Dense(1, init='uniform', activation='sigmoid'))"
   ]
  },
  {
   "cell_type": "code",
   "execution_count": null,
   "metadata": {
    "collapsed": true
   },
   "outputs": [],
   "source": [
    "from IPython.display import SVG\n",
    "from keras.utils.visualize_util import model_to_dot\n",
    "\n",
    "SVG(model_to_dot(model, show_shapes=True).create(prog='dot', format='svg'))"
   ]
  },
  {
   "cell_type": "markdown",
   "metadata": {},
   "source": [
    "![model](http://tykimos.github.io/Keras/warehouse/2017-1-27-MLP_Layer_Talk_model.png)"
   ]
  },
  {
   "cell_type": "markdown",
   "metadata": {
    "collapsed": true
   },
   "source": [
    "---\n",
    "\n",
    "### 같이 보기\n",
    "\n",
    "* [강좌 목차](https://tykimos.github.io/Keras/2017/01/27/Keras_Lecture_Contents/)\n",
    "* 이전 : [딥러닝 이야기/케라스 이야기](https://tykimos.github.io/Keras/2017/01/27/Keras_Talk/)\n",
    "* 다음 : [딥러닝 이야기/컨볼루션 신경망 레이어 이야기]"
   ]
  },
  {
   "cell_type": "code",
   "execution_count": null,
   "metadata": {
    "collapsed": true
   },
   "outputs": [],
   "source": []
  }
 ],
 "metadata": {
  "kernelspec": {
   "display_name": "Python 2",
   "language": "python",
   "name": "python2"
  },
  "language_info": {
   "codemirror_mode": {
    "name": "ipython",
    "version": 2
   },
   "file_extension": ".py",
   "mimetype": "text/x-python",
   "name": "python",
   "nbconvert_exporter": "python",
   "pygments_lexer": "ipython2",
   "version": "2.7.13"
  }
 },
 "nbformat": 4,
 "nbformat_minor": 0
}
