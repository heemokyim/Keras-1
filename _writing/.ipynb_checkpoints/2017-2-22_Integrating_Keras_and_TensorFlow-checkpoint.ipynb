{
 "cells": [
  {
   "cell_type": "raw",
   "metadata": {},
   "source": [
    "---\n",
    "layout: post\n",
    "title:  \"케라스와 텐서플로우와의 통합\"\n",
    "author: Taeyoung, Kim\n",
    "date:   2017-02-22 01:00:00\n",
    "categories: News\n",
    "comments: true\n",
    "image: http://tykimos.github.io/Keras/warehouse/2017-2-22_Integrating_Keras_and_TensorFlow_1.png\n",
    "---"
   ]
  },
  {
   "cell_type": "markdown",
   "metadata": {},
   "source": [
    "With Keras, anyone has a chance to build the next HAL9000\n",
    "This is all the code needed to build a model that analyzes videos and answers questionsAs powerful as TensorFlow is, constructing a complex model directly in its API takes quite a bit of knowledge, and some careful programming. This is especially true of sophisticated models like recurrent neural networks and their fancy cousins, LSTMs (Long Short Term Memory models). The Keras programming interface provides a more user-friendly layer on top of TensorFlow (and Theano) that make constructing high-end networks deceptively simple.\n",
    "\n",
    "During the Summit, Keras author Francois Chollet showed how easy it is to build a network that looks at video sequences and answered questions about them — in a single page of code! Of course, knowing how to put various layers in the model together still takes a lot of skill, but actually constructing it is relatively painless. Keras also includes a number of pre-trained models for easy instantiation. Given the labor-intensive nature of assembling the large datasets needed to train models, and the processor-intensive nature of training, that’s a huge benefit for developers."
   ]
  }
 ],
 "metadata": {
  "kernelspec": {
   "display_name": "Python 2",
   "language": "python",
   "name": "python2"
  },
  "language_info": {
   "codemirror_mode": {
    "name": "ipython",
    "version": 2
   },
   "file_extension": ".py",
   "mimetype": "text/x-python",
   "name": "python",
   "nbconvert_exporter": "python",
   "pygments_lexer": "ipython2",
   "version": "2.7.13"
  }
 },
 "nbformat": 4,
 "nbformat_minor": 0
}
