{
 "cells": [
  {
   "cell_type": "code",
   "execution_count": null,
   "metadata": {
    "collapsed": false
   },
   "outputs": [],
   "source": [
    "import os\n",
    "import pandas\n",
    "\n",
    "dir_path = './Data_RNN'\n",
    "\n",
    "df = pandas.DataFrame()\n",
    "    \n",
    "for file_name in os.listdir(dir_path):\n",
    "    file_path = os.path.join(dir_path, file_name)\n",
    "    if not os.path.isdir(file_path):\n",
    "        ext = os.path.splitext(file_path)[-1]\n",
    "        if ext == '.txt': \n",
    "            print(file_path)\n",
    "            \n",
    "            curr_df = pandas.read_csv(file_path, delim_whitespace=True, header=None, usecols=[6])\n",
    "            df = df.append(curr_df)"
   ]
  },
  {
   "cell_type": "code",
   "execution_count": null,
   "metadata": {
    "collapsed": false
   },
   "outputs": [],
   "source": [
    "import numpy as np\n",
    "from sklearn.preprocessing import MinMaxScaler\n",
    "\n",
    "dataset = df.values\n",
    "dataset = dataset.astype('float32')\n",
    "dataset = np.log10(dataset)\n",
    "\n",
    "# normalize\n",
    "scaler = MinMaxScaler(feature_range=(0,1))\n",
    "dataset = scaler.fit_transform(dataset)\n",
    "dataset = np.reshape(dataset, (11, 288, 1))\n",
    "\n",
    "#dataset.shape"
   ]
  },
  {
   "cell_type": "code",
   "execution_count": null,
   "metadata": {
    "collapsed": false
   },
   "outputs": [],
   "source": [
    "import matplotlib.pyplot as plt\n",
    "%matplotlib inline \n",
    "\n",
    "for ds in dataset:\n",
    "    plt.plot(ds)\n",
    "    \n",
    "plt.show()"
   ]
  },
  {
   "cell_type": "code",
   "execution_count": null,
   "metadata": {
    "collapsed": false
   },
   "outputs": [],
   "source": [
    "from keras.models import Sequential\n",
    "from keras.layers import Dense\n",
    "from keras.layers import LSTM\n",
    "from keras.layers import Dropout\n",
    "\n",
    "model = Sequential()\n",
    "model.add(LSTM(32, batch_input_shape=(1, 20, 1), stateful=True, return_sequences=True))\n",
    "model.add(Dropout(0.3))\n",
    "model.add(LSTM(32, batch_input_shape=(1, 20, 1), stateful=True))\n",
    "model.add(Dropout(0.3))\n",
    "model.add(Dense(1))\n",
    "\n",
    "#model = Sequential()\n",
    "#model.add(LSTM(100, batch_input_shape=(1, 20, 1), stateful=True))\n",
    "#model.add(Dropout(0.3))\n",
    "#model.add(Dense(1))\n",
    "\n",
    "model.compile(loss='mean_squared_error', optimizer='adam')"
   ]
  },
  {
   "cell_type": "code",
   "execution_count": null,
   "metadata": {
    "collapsed": true
   },
   "outputs": [],
   "source": [
    "def create_dataset(dataset, look_back=1):\n",
    "    dataX, dataY = [], []\n",
    "    for i in range(len(dataset)-look_back):\n",
    "        dataX.append(dataset[i:( i + look_back), 0])\n",
    "        dataY.append(dataset[i + look_back, 0])\n",
    "    return np.array(dataX), np.array(dataY)"
   ]
  },
  {
   "cell_type": "code",
   "execution_count": null,
   "metadata": {
    "collapsed": false
   },
   "outputs": [],
   "source": [
    "for epoch in range(5):\n",
    "    \n",
    "    for event_idx in range(10):\n",
    "    \n",
    "        print('epoch : ' + str(epoch) + ' | event id : ' + str(event_idx))\n",
    "        \n",
    "        trainX, trainY = create_dataset(dataset[event_idx], 20)\n",
    "        trainX = np.reshape(trainX, (trainX.shape[0], trainX.shape[1], 1)) # samples, time steps, features\n",
    "\n",
    "        model.fit(trainX, trainY, nb_epoch=1, batch_size=1, verbose=2, shuffle=False)\n",
    "        model.reset_states()"
   ]
  },
  {
   "cell_type": "code",
   "execution_count": null,
   "metadata": {
    "collapsed": false
   },
   "outputs": [],
   "source": [
    "testX, testY = create_dataset(dataset[10], 20)\n",
    "testX = np.reshape(testX, (testX.shape[0], testX.shape[1], 1))\n",
    "\n",
    "testPredict = [testX[0]]"
   ]
  },
  {
   "cell_type": "code",
   "execution_count": null,
   "metadata": {
    "collapsed": false
   },
   "outputs": [],
   "source": [
    "look_ahead = 288 - 20\n",
    "predictions = np.zeros((look_ahead, 1))\n",
    "    \n",
    "for i in range(look_ahead):\n",
    "    prediction = model.predict(np.array([testPredict[-1]]), batch_size=1, verbose=0)\n",
    "    predictions[i] = prediction\n",
    "    testPredict.append(np.vstack([testPredict[-1][1:], prediction]))\n",
    "    \n",
    "model.reset_states()"
   ]
  },
  {
   "cell_type": "code",
   "execution_count": null,
   "metadata": {
    "collapsed": false
   },
   "outputs": [],
   "source": [
    "plt.figure(figsize=(12,5))\n",
    "plt.plot(np.arange(look_ahead), predictions,'r', label=\"prediction\")\n",
    "plt.plot(np.arange(look_ahead), testY, label=\"test function\")\n",
    "plt.legend()\n",
    "plt.show()"
   ]
  },
  {
   "cell_type": "code",
   "execution_count": null,
   "metadata": {
    "collapsed": false
   },
   "outputs": [],
   "source": [
    "testX, testY = create_dataset(dataset[10], 20)\n",
    "testX = np.reshape(testX, (testX.shape[0], testX.shape[1], 1))\n",
    "\n",
    "testPredict = [testX[0]]\n",
    "\n",
    "look_real = 100\n",
    "look_ahead = 287-100\n",
    "\n",
    "predictions = np.zeros((look_real + look_ahead, 1))\n",
    "\n",
    "for i in range(look_real):\n",
    "    \n",
    "    prediction = model.predict(np.array([testPredict[-1]]), batch_size=1, verbose=0)\n",
    "    predictions[i] = prediction\n",
    "    testPredict.append(np.vstack([testPredict[-1][1:], testY[i]]))\n",
    "    \n",
    "for i in range(look_ahead):\n",
    "    prediction = model.predict(np.array([testPredict[-1]]), batch_size=1, verbose=0)\n",
    "    predictions[look_real + i] = prediction\n",
    "    testPredict.append(np.vstack([testPredict[-1][1:], prediction]))\n",
    "    \n",
    "model.reset_states()  "
   ]
  },
  {
   "cell_type": "code",
   "execution_count": null,
   "metadata": {
    "collapsed": true
   },
   "outputs": [],
   "source": []
  },
  {
   "cell_type": "code",
   "execution_count": null,
   "metadata": {
    "collapsed": false
   },
   "outputs": [],
   "source": [
    "plt.figure(figsize=(12,5))\n",
    "plt.plot(np.arange(287-20), predictions,'r', label=\"prediction\")\n",
    "plt.plot(np.arange(287-20), testY, label=\"test function\")\n",
    "plt.legend()\n",
    "plt.show()"
   ]
  },
  {
   "cell_type": "code",
   "execution_count": null,
   "metadata": {
    "collapsed": true
   },
   "outputs": [],
   "source": []
  }
 ],
 "metadata": {
  "kernelspec": {
   "display_name": "Python 2",
   "language": "python",
   "name": "python2"
  },
  "language_info": {
   "codemirror_mode": {
    "name": "ipython",
    "version": 2
   },
   "file_extension": ".py",
   "mimetype": "text/x-python",
   "name": "python",
   "nbconvert_exporter": "python",
   "pygments_lexer": "ipython2",
   "version": "2.7.10"
  }
 },
 "nbformat": 4,
 "nbformat_minor": 0
}
