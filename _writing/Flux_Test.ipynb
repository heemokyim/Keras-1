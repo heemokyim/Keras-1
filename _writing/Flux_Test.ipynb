{
 "cells": [
  {
   "cell_type": "code",
   "execution_count": 1,
   "metadata": {
    "collapsed": false
   },
   "outputs": [
    {
     "name": "stdout",
     "output_type": "stream",
     "text": [
      "./Data_RNN/201301.txt\n",
      "./Data_RNN/201302.txt\n",
      "./Data_RNN/201303.txt\n",
      "./Data_RNN/201306.txt\n",
      "./Data_RNN/201307.txt\n",
      "./Data_RNN/201401.txt\n",
      "./Data_RNN/201402.txt\n",
      "./Data_RNN/201403.txt\n",
      "./Data_RNN/201405.txt\n",
      "./Data_RNN/201406.txt\n",
      "./Data_RNN/201501.txt\n",
      "./Data_RNN/201502.txt\n",
      "./Data_RNN/201503.txt\n",
      "./Data_RNN/201504.txt\n",
      "./Data_RNN/201601.txt\n"
     ]
    }
   ],
   "source": [
    "import os\n",
    "import pandas\n",
    "\n",
    "dir_path = './Data_RNN'\n",
    "\n",
    "df = pandas.DataFrame()\n",
    "    \n",
    "for file_name in os.listdir(dir_path):\n",
    "    file_path = os.path.join(dir_path, file_name)\n",
    "    if not os.path.isdir(file_path):\n",
    "        ext = os.path.splitext(file_path)[-1]\n",
    "        if ext == '.txt': \n",
    "            print(file_path)\n",
    "            \n",
    "            curr_df = pandas.read_csv(file_path, delim_whitespace=True, header=None, usecols=[6])\n",
    "            df = df.append(curr_df)"
   ]
  },
  {
   "cell_type": "code",
   "execution_count": 2,
   "metadata": {
    "collapsed": false
   },
   "outputs": [
    {
     "data": {
      "text/plain": [
       "(288, 15)"
      ]
     },
     "execution_count": 2,
     "metadata": {},
     "output_type": "execute_result"
    }
   ],
   "source": [
    "import numpy as np\n",
    "\n",
    "dataset = df.values\n",
    "dataset = dataset.astype('float32')\n",
    "dataset = np.log10(dataset)\n",
    "dataset = np.reshape(dataset, (288, 15))\n",
    "dataset.shape"
   ]
  },
  {
   "cell_type": "code",
   "execution_count": null,
   "metadata": {
    "collapsed": false
   },
   "outputs": [],
   "source": [
    "import matplotlib.pyplot as plt\n",
    "plt.plot(dataset)\n",
    "plt.show()"
   ]
  },
  {
   "cell_type": "code",
   "execution_count": null,
   "metadata": {
    "collapsed": false
   },
   "outputs": [],
   "source": [
    "\n",
    "lis_sample = zip(*lis)"
   ]
  },
  {
   "cell_type": "code",
   "execution_count": null,
   "metadata": {
    "collapsed": false
   },
   "outputs": [],
   "source": [
    "import numpy as np\n",
    "\n",
    "x = np.loadtxt('Data_RNN/1.txt')\n",
    "\n",
    "np.savetxt('Data_RNN/2.txt', x)"
   ]
  },
  {
   "cell_type": "code",
   "execution_count": null,
   "metadata": {
    "collapsed": false
   },
   "outputs": [],
   "source": [
    "import numpy as np\n",
    "\n",
    "from keras.models import Sequential\n",
    "from keras.layers import Dense, LSTM, Dropout\n",
    "from sklearn.preprocessing import MinMaxScaler\n",
    "\n",
    "import matplotlib.pyplot as plt\n",
    "\n",
    "import theano\n",
    "\n"
   ]
  },
  {
   "cell_type": "code",
   "execution_count": null,
   "metadata": {
    "collapsed": true
   },
   "outputs": [],
   "source": [
    "path_train = 'Data_RNN/train'\n",
    "\n",
    "file_list_train = [ os.path.join( path_train, file ) for file in os.listdir( path_train ) if not file.startswith('.') ]\n",
    "\n",
    "n_train = len( file_list_train )\n",
    "\n",
    "for n in range( n_train ) :\n",
    "    \n",
    "    print( 'Dataset : ', str( n + 1 ), '/', str( n_train ) )\n",
    "    \n",
    "    F = open( file_list_train[ n ], 'r' )\n",
    "    dataset_train = []\n",
    "\n",
    "    for Fline in F.readlines() :\n",
    "        try :\n",
    "            A = str.split( Fline, \" \" )\n",
    "            dataset_train = np.append( dataset_train, np.log10( float( A[ 6 ] ) ) )\n",
    "        except ValueError :\n",
    "            pass\n",
    "    F.close()\n",
    "\n",
    "    dataset_train = dataset_train[ : , None ]\n",
    "\n",
    "\n",
    "    look_back = 24  \n",
    "\n",
    "    trainX, trainY = create_dataset( dataset_train, look_back )\n",
    "\n",
    "    trainX = np.reshape( trainX, ( trainX.shape[ 0 ], trainX.shape[ 1 ], 1 ) )\n",
    "    \n",
    "    theano.config.compute_test_value = \"ignore\"\n",
    "    batch_size = 1\n",
    "    model = Sequential()\n",
    "\n",
    "#    model.add( LSTM( 32, input_shape = ( None, 1 ) ), stateful = True )\n",
    "    model.add( LSTM( 32, batch_input_shape = ( batch_size, look_back, 1 ), stateful = True ) )\n",
    "    model.add( Dropout( 0.3 ) )\n",
    "    model.add( Dense( 1, activation = 'relu' ) )\n",
    "    model.compile( loss = 'mean_squared_error', optimizer = 'adam' )\n",
    "\n",
    "    model.fit( trainX, trainY, epochs = 5, batch_size = batch_size, verbose = 2 )\n",
    "    model.reset_states()\n",
    "    \n",
    "    trainScore = model.evaluate( trainX, trainY, batch_size = batch_size, verbose = 0 )\n",
    "    print( 'Train Score : ', trainScore )\n",
    "\n",
    "\n",
    "    \n",
    "\n",
    "G = open( 'Data_RNN/test/201601.txt', 'r' )\n",
    "dataset_test = []\n",
    "for Gline in G.readlines() :\n",
    "    try :\n",
    "        A = str.split( Gline, \" \" )\n",
    "        dataset_test = np.append( dataset_test, np.log10( float( A[ 6 ] ) ) )\n",
    "    except ValueError :\n",
    "        pass\n",
    "\n",
    "batch_size = 1    \n",
    "dataset_test = dataset_test[ : , None ]\n",
    "look_back = 24\n",
    "testX, testY = create_dataset( dataset_test, look_back )\n",
    "testX = np.reshape( testX, ( testX.shape[ 0 ], testX.shape[ 1 ], 1 ) )\n",
    "    \n",
    "testScore = model.evaluate( testX[ : 240 ], testY[ : 240 ], batch_size = batch_size, verbose = 0 )\n",
    "print( 'Test Score  : ', testScore )\n",
    "\n",
    "\n",
    "\n",
    "look_ahead = 240\n",
    "testPredict = [ np.vstack( [ testX[ -1 ][ 1 : ], testY[ -1 ] ] ) ]\n",
    "predictions = np.zeros( ( look_ahead , 1 ) )\n",
    "for i in range( look_ahead ) :\n",
    "    prediction = model.predict( np.array( [ testPredict[ -1 ] ] ), batch_size = batch_size )\n",
    "    predictions[ i ] = prediction\n",
    "    testPredict.append( np.vstack( [ testPredict[ -1 ][ 1 : ], prediction ] ) )\n",
    "    \n",
    "plt.figure(figsize=(12,5))\n",
    "plt.plot( np.arange( look_ahead ), predictions, 'r' , label = \"prediction\" )\n",
    "plt.plot( np.arange( look_ahead ), dataset_test[ 0 : look_ahead ], label = \"test function\" )\n",
    "plt.legend()\n",
    "plt.show()\n"
   ]
  }
 ],
 "metadata": {
  "kernelspec": {
   "display_name": "Python 2",
   "language": "python",
   "name": "python2"
  },
  "language_info": {
   "codemirror_mode": {
    "name": "ipython",
    "version": 2
   },
   "file_extension": ".py",
   "mimetype": "text/x-python",
   "name": "python",
   "nbconvert_exporter": "python",
   "pygments_lexer": "ipython2",
   "version": "2.7.13"
  }
 },
 "nbformat": 4,
 "nbformat_minor": 0
}
