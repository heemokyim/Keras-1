{
 "cells": [
  {
   "cell_type": "code",
   "execution_count": null,
   "metadata": {
    "collapsed": false
   },
   "outputs": [],
   "source": [
    "import numpy as np\n",
    "import os\n",
    "import pandas\n",
    "import theano\n",
    "\n",
    "from keras.models import Sequential\n",
    "from keras.layers import Dense, LSTM, Dropout\n",
    "from sklearn.preprocessing import MinMaxScaler\n",
    "\n",
    "import matplotlib.pyplot as plt\n",
    "import matplotlib.animation as animation\n",
    "\n",
    "#%matplotlib inline"
   ]
  },
  {
   "cell_type": "code",
   "execution_count": null,
   "metadata": {
    "collapsed": true
   },
   "outputs": [],
   "source": [
    "dataset_file_path = './Data_RNN/201601.txt'\n",
    "df = pandas.read_csv(dataset_file_path, delim_whitespace=True, header=None, usecols=[6])\n",
    "\n",
    "# dataframe to dataset\n",
    "dataset = df.values\n",
    "dataset = dataset.astype('float32')\n",
    "dataset = np.log10(dataset)\n",
    "\n",
    "# normalize\n",
    "scaler = MinMaxScaler(feature_range=(0,1))\n",
    "dataset = scaler.fit_transform(dataset)"
   ]
  },
  {
   "cell_type": "code",
   "execution_count": null,
   "metadata": {
    "collapsed": false
   },
   "outputs": [],
   "source": [
    "plt.plot(dataset)   \n",
    "plt.show()"
   ]
  },
  {
   "cell_type": "code",
   "execution_count": null,
   "metadata": {
    "collapsed": false
   },
   "outputs": [],
   "source": [
    "# convert an array of values into a dataset matrix\n",
    "def create_dataset(dataset, look_back=1):\n",
    "    dataX, dataY = [], []\n",
    "    for i in range(len(dataset)-look_back):\n",
    "        dataX.append(dataset[i:(i+look_back), 0])\n",
    "        dataY.append(dataset[i + look_back, 0])\n",
    "    return np.array(dataX), np.array(dataY)"
   ]
  },
  {
   "cell_type": "code",
   "execution_count": null,
   "metadata": {
    "collapsed": true
   },
   "outputs": [],
   "source": [
    "# 훈련은 0~10으로 테스트는 11로\n",
    "\n",
    "look_back = 24\n",
    "\n",
    "trainX, trainY = create_dataset(dataset, look_back)\n",
    "trainX = np.reshape(trainX, (trainX.shape[0], trainX.shape[1], 1))\n",
    "\n",
    "testX, testY = create_dataset(dataset, look_back)\n",
    "testX = np.reshape(testX, (testX.shape[0], testX.shape[1], 1))"
   ]
  },
  {
   "cell_type": "code",
   "execution_count": null,
   "metadata": {
    "collapsed": false
   },
   "outputs": [],
   "source": [
    "%%time\n",
    "theano.config.compute_test_value = \"ignore\"\n",
    "\n",
    "# create and fit the LSTM network\n",
    "batch_size = 1\n",
    "model = Sequential()\n",
    "\n",
    "for i in range(2):\n",
    "    model.add(LSTM(64, batch_input_shape=(batch_size, look_back, 1), stateful=True, return_sequences=True))\n",
    "    model.add(Dropout(0.3))\n",
    "model.add(LSTM(64, batch_input_shape=(batch_size, look_back, 1), stateful=True))\n",
    "model.add(Dropout(0.3))\n",
    "model.add(Dense(1))\n",
    "model.compile(loss='mean_squared_error', optimizer='adam')"
   ]
  },
  {
   "cell_type": "code",
   "execution_count": null,
   "metadata": {
    "collapsed": false
   },
   "outputs": [],
   "source": [
    "for epoch_idx in range(10):\n",
    "\n",
    "    model.fit(trainX, trainY, nb_epoch=1, batch_size=1, verbose=2, shuffle=False)\n",
    "    model.reset_states()"
   ]
  },
  {
   "cell_type": "code",
   "execution_count": null,
   "metadata": {
    "collapsed": false
   },
   "outputs": [],
   "source": [
    "testScore = model.evaluate(testX, testY, batch_size=batch_size, verbose=0)\n",
    "print('Test Score: ', testScore)\n",
    "\n",
    "model.reset_states()"
   ]
  },
  {
   "cell_type": "code",
   "execution_count": null,
   "metadata": {
    "collapsed": false
   },
   "outputs": [],
   "source": [
    "total_length = 288 - look_back\n",
    "\n",
    "for curr_idx in range(total_length):\n",
    "\n",
    "    look_hist = curr_idx\n",
    "    look_ahead = total_length - curr_idx\n",
    "\n",
    "    predictions = np.zeros((total_length,1))\n",
    "    testPredict = [np.vstack([testX[0][:]])]\n",
    "\n",
    "    for i in range(look_hist):\n",
    "        prediction = model.predict(np.array([testPredict[-1]]), batch_size=batch_size)\n",
    "        predictions[i] = prediction\n",
    "        testPredict.append(np.vstack([testX[i+1][:]]))\n",
    "        \n",
    "    for i in range(look_ahead):    \n",
    "        prediction = model.predict(np.array([testPredict[-1]]), batch_size=batch_size)\n",
    "        predictions[i + look_hist] = prediction\n",
    "        testPredict.append(np.vstack([testPredict[-1][1:],prediction]))\n",
    "    \n",
    "    model.reset_states()\n",
    "    "
   ]
  },
  {
   "cell_type": "code",
   "execution_count": null,
   "metadata": {
    "collapsed": false
   },
   "outputs": [],
   "source": [
    "# First set up the figure, the axis, and the plot element we want to animate\n",
    "\n",
    "fig = plt.figure(figsize=(12,5))    \n",
    "ax = plt.axes(xlim=(0, 287), ylim=(0, 1))\n",
    "plt.xlabel('time')\n",
    "plt.ylabel('flux')\n",
    "\n",
    "plotcols = [2], [\"black\",\"blue\"]\n",
    "\n",
    "predictions = dataset\n",
    "\n",
    "lines = []\n",
    "\n",
    "for i in range(2):\n",
    "    line = ax.plot([], [], lw=2, color = plotcols[i])[0]\n",
    "    lines.append(line)\n",
    "\n",
    "# initialization function: plot the background of each frame\n",
    "def init():\n",
    "    \n",
    "    for line in lines:\n",
    "        line.set_data([],[])\n",
    "    return lines\n",
    "\n",
    "def animate(update_idx):\n",
    "\n",
    "    look_real = update_idx\n",
    "    look_ahead = 288-update_idx\n",
    "\n",
    "    predictions = np.zeros((look_real + look_ahead, 1))\n",
    "\n",
    "    for i in range(look_real):\n",
    "        predictions[i] = dataset[i]\n",
    "\n",
    "    for i in range(look_ahead):\n",
    "        predictions[look_real + i] = 0\n",
    "\n",
    "    x = np.linspace(0, 287, 288)\n",
    "\n",
    "    y0 = dataset    \n",
    "    y1 = predictions\n",
    "    \n",
    "    lines[0].set_data(x, y0)\n",
    "    lines[1].set_data(x, y1)\n",
    "    \n",
    "    return lines\n",
    "        \n",
    "anim = animation.FuncAnimation(fig, animate, init_func=init, frames=288, interval=20, blit=True)\n",
    "\n",
    "#anim.save('exAnimation.gif', writer='imagemagick', fps=30, dpi=100)\n",
    "\n",
    "plt.show()"
   ]
  },
  {
   "cell_type": "code",
   "execution_count": null,
   "metadata": {
    "collapsed": true
   },
   "outputs": [],
   "source": []
  }
 ],
 "metadata": {
  "kernelspec": {
   "display_name": "Python 2",
   "language": "python",
   "name": "python2"
  },
  "language_info": {
   "codemirror_mode": {
    "name": "ipython",
    "version": 2
   },
   "file_extension": ".py",
   "mimetype": "text/x-python",
   "name": "python",
   "nbconvert_exporter": "python",
   "pygments_lexer": "ipython2",
   "version": "2.7.13"
  }
 },
 "nbformat": 4,
 "nbformat_minor": 0
}
